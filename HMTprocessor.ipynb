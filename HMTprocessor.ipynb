{
 "cells": [
  {
   "cell_type": "code",
   "execution_count": 1,
   "metadata": {},
   "outputs": [
    {
     "name": "stderr",
     "output_type": "stream",
     "text": [
      "/uscms/home/kkwok/work/LLP/CMSSW_10_6_20/src/llp_analyzer/coffeaenv/lib/python3.7/site-packages/coffea/util.py:154: FutureWarning: In coffea version v0.8.0 (target date: 31 Dec 2022), this will be an error.\n",
      "(Set coffea.deprecations_as_errors = True to get a stack trace now.)\n",
      "ImportError: coffea.hist is deprecated\n",
      "  warnings.warn(message, FutureWarning)\n"
     ]
    }
   ],
   "source": [
    "import numpy as np\n",
    "import matplotlib.pyplot as plt\n",
    "import awkward as ak\n",
    "from coffea import hist, processor\n",
    "import coffea\n",
    "import uproot\n",
    "import sys\n",
    "sys.path.insert(0,\"../\")\n",
    "# from corrections import add_pileup_weight\n",
    "\n",
    "import mplhep as hep\n",
    "import pickle\n",
    "import pandas as pd\n",
    "import glob"
   ]
  },
  {
   "cell_type": "code",
   "execution_count": 2,
   "metadata": {},
   "outputs": [],
   "source": [
    "from coffea.nanoevents import NanoEventsFactory, BaseSchema\n",
    "from HMTprocessor.HMTproc import MyProcessor\n"
   ]
  },
  {
   "cell_type": "code",
   "execution_count": 3,
   "metadata": {},
   "outputs": [],
   "source": [
    "f = \"/uscms/home/kkwok/lpclonglived/HLT/zerobias22/plots_run359694.root\""
   ]
  },
  {
   "cell_type": "code",
   "execution_count": 4,
   "metadata": {},
   "outputs": [],
   "source": [
    "fileset = {\n",
    "    'Run359694': [\n",
    "        \"/uscms/home/kkwok/lpclonglived/HLT/zerobias22/plots_run359694.root\",\n",
    "    ]\n",
    "}"
   ]
  },
  {
   "cell_type": "code",
   "execution_count": 5,
   "metadata": {
    "scrolled": false
   },
   "outputs": [
    {
     "data": {
      "application/vnd.jupyter.widget-view+json": {
       "model_id": "177935cccdcb4fcfb9e12d780cd34645",
       "version_major": 2,
       "version_minor": 0
      },
      "text/plain": [
       "Output()"
      ]
     },
     "metadata": {},
     "output_type": "display_data"
    },
    {
     "data": {
      "text/html": [
       "<pre style=\"white-space:pre;overflow-x:auto;line-height:normal;font-family:Menlo,'DejaVu Sans Mono',consolas,'Courier New',monospace\"></pre>\n"
      ],
      "text/plain": []
     },
     "metadata": {},
     "output_type": "display_data"
    },
    {
     "data": {
      "text/html": [
       "<pre style=\"white-space:pre;overflow-x:auto;line-height:normal;font-family:Menlo,'DejaVu Sans Mono',consolas,'Courier New',monospace\"><span style=\"color: #000080; text-decoration-color: #000080; font-weight: bold\">Preprocessing</span> <span style=\"color: #800080; text-decoration-color: #800080\">  0%</span> <span style=\"color: #3a3a3a; text-decoration-color: #3a3a3a\">━━━━━━━━━━━━━━━━━━━━━━━━━━━━━━━━━━━━━</span> <span style=\"color: #000080; text-decoration-color: #000080; font-weight: bold\">0/1</span> [ <span style=\"color: #808000; text-decoration-color: #808000\">0:00:00</span> &lt; <span style=\"color: #008080; text-decoration-color: #008080\">-:--:--</span> | <span style=\"color: #800000; text-decoration-color: #800000\">?</span> <span style=\"color: #800000; text-decoration-color: #800000\">file/s</span> ]\n",
       "</pre>\n"
      ],
      "text/plain": [
       "\u001b[1;34mPreprocessing\u001b[0m \u001b[35m  0%\u001b[0m \u001b[38;5;237m━━━━━━━━━━━━━━━━━━━━━━━━━━━━━━━━━━━━━\u001b[0m \u001b[1;34m0/1\u001b[0m [ \u001b[33m0:00:00\u001b[0m < \u001b[36m-:--:--\u001b[0m | \u001b[31m?\u001b[0m \u001b[31mfile/s\u001b[0m ]\n"
      ]
     },
     "metadata": {},
     "output_type": "display_data"
    },
    {
     "data": {
      "text/html": [
       "<pre style=\"white-space:pre;overflow-x:auto;line-height:normal;font-family:Menlo,'DejaVu Sans Mono',consolas,'Courier New',monospace\"><span style=\"color: #000080; text-decoration-color: #000080; font-weight: bold\">Preprocessing</span> <span style=\"color: #800080; text-decoration-color: #800080\">100%</span> <span style=\"color: #729c1f; text-decoration-color: #729c1f\">━━━━━━━━━━━━━━━━━━━━━━━━━━━━━━━━━━━━━</span> <span style=\"color: #000080; text-decoration-color: #000080; font-weight: bold\">1/1</span> [ <span style=\"color: #808000; text-decoration-color: #808000\">0:00:00</span> &lt; <span style=\"color: #008080; text-decoration-color: #008080\">0:00:00</span> | <span style=\"color: #800000; text-decoration-color: #800000\">?</span> <span style=\"color: #800000; text-decoration-color: #800000\">file/s</span> ]\n",
       "</pre>\n"
      ],
      "text/plain": [
       "\u001b[1;34mPreprocessing\u001b[0m \u001b[35m100%\u001b[0m \u001b[38;2;114;156;31m━━━━━━━━━━━━━━━━━━━━━━━━━━━━━━━━━━━━━\u001b[0m \u001b[1;34m1/1\u001b[0m [ \u001b[33m0:00:00\u001b[0m < \u001b[36m0:00:00\u001b[0m | \u001b[31m?\u001b[0m \u001b[31mfile/s\u001b[0m ]\n"
      ]
     },
     "metadata": {},
     "output_type": "display_data"
    },
    {
     "data": {
      "text/html": [
       "<pre style=\"white-space:pre;overflow-x:auto;line-height:normal;font-family:Menlo,'DejaVu Sans Mono',consolas,'Courier New',monospace\"></pre>\n"
      ],
      "text/plain": []
     },
     "metadata": {},
     "output_type": "display_data"
    },
    {
     "data": {
      "text/html": [
       "<pre style=\"white-space:pre;overflow-x:auto;line-height:normal;font-family:Menlo,'DejaVu Sans Mono',consolas,'Courier New',monospace\">\n",
       "</pre>\n"
      ],
      "text/plain": [
       "\n"
      ]
     },
     "metadata": {},
     "output_type": "display_data"
    },
    {
     "data": {
      "application/vnd.jupyter.widget-view+json": {
       "model_id": "70b025f988144cb4a967c3259f25c682",
       "version_major": 2,
       "version_minor": 0
      },
      "text/plain": [
       "Output()"
      ]
     },
     "metadata": {},
     "output_type": "display_data"
    },
    {
     "data": {
      "text/html": [
       "<pre style=\"white-space:pre;overflow-x:auto;line-height:normal;font-family:Menlo,'DejaVu Sans Mono',consolas,'Courier New',monospace\"></pre>\n"
      ],
      "text/plain": []
     },
     "metadata": {},
     "output_type": "display_data"
    },
    {
     "data": {
      "text/html": [
       "<pre style=\"white-space:pre;overflow-x:auto;line-height:normal;font-family:Menlo,'DejaVu Sans Mono',consolas,'Courier New',monospace\"><span style=\"color: #000080; text-decoration-color: #000080; font-weight: bold\">Processing</span> <span style=\"color: #800080; text-decoration-color: #800080\">  0%</span> <span style=\"color: #3a3a3a; text-decoration-color: #3a3a3a\">━━━━━━━━━━━━━━━━━━━━━━━━━━━━━━━━━━━━━━</span> <span style=\"color: #000080; text-decoration-color: #000080; font-weight: bold\">0/10</span> [ <span style=\"color: #808000; text-decoration-color: #808000\">0:00:00</span> &lt; <span style=\"color: #008080; text-decoration-color: #008080\">-:--:--</span> | <span style=\"color: #800000; text-decoration-color: #800000\">?</span> <span style=\"color: #800000; text-decoration-color: #800000\">chunk/s</span> ]\n",
       "</pre>\n"
      ],
      "text/plain": [
       "\u001b[1;34mProcessing\u001b[0m \u001b[35m  0%\u001b[0m \u001b[38;5;237m━━━━━━━━━━━━━━━━━━━━━━━━━━━━━━━━━━━━━━\u001b[0m \u001b[1;34m0/10\u001b[0m [ \u001b[33m0:00:00\u001b[0m < \u001b[36m-:--:--\u001b[0m | \u001b[31m?\u001b[0m \u001b[31mchunk/s\u001b[0m ]\n"
      ]
     },
     "metadata": {},
     "output_type": "display_data"
    },
    {
     "data": {
      "text/html": [
       "<pre style=\"white-space:pre;overflow-x:auto;line-height:normal;font-family:Menlo,'DejaVu Sans Mono',consolas,'Courier New',monospace\"><span style=\"color: #000080; text-decoration-color: #000080; font-weight: bold\">Processing</span> <span style=\"color: #800080; text-decoration-color: #800080\"> 10%</span> <span style=\"color: #f92672; text-decoration-color: #f92672\">━━━╸</span><span style=\"color: #3a3a3a; text-decoration-color: #3a3a3a\">━━━━━━━━━━━━━━━━━━━━━━━━━━━━━━━━━━</span> <span style=\"color: #000080; text-decoration-color: #000080; font-weight: bold\">1/10</span> [ <span style=\"color: #808000; text-decoration-color: #808000\">0:00:02</span> &lt; <span style=\"color: #008080; text-decoration-color: #008080\">-:--:--</span> | <span style=\"color: #800000; text-decoration-color: #800000\">?</span> <span style=\"color: #800000; text-decoration-color: #800000\">chunk/s</span> ]\n",
       "</pre>\n"
      ],
      "text/plain": [
       "\u001b[1;34mProcessing\u001b[0m \u001b[35m 10%\u001b[0m \u001b[38;2;249;38;114m━━━\u001b[0m\u001b[38;2;249;38;114m╸\u001b[0m\u001b[38;5;237m━━━━━━━━━━━━━━━━━━━━━━━━━━━━━━━━━━\u001b[0m \u001b[1;34m1/10\u001b[0m [ \u001b[33m0:00:02\u001b[0m < \u001b[36m-:--:--\u001b[0m | \u001b[31m?\u001b[0m \u001b[31mchunk/s\u001b[0m ]\n"
      ]
     },
     "metadata": {},
     "output_type": "display_data"
    },
    {
     "data": {
      "text/html": [
       "<pre style=\"white-space:pre;overflow-x:auto;line-height:normal;font-family:Menlo,'DejaVu Sans Mono',consolas,'Courier New',monospace\"><span style=\"color: #000080; text-decoration-color: #000080; font-weight: bold\">Processing</span> <span style=\"color: #800080; text-decoration-color: #800080\"> 20%</span> <span style=\"color: #f92672; text-decoration-color: #f92672\">━━━━━━━</span><span style=\"color: #3a3a3a; text-decoration-color: #3a3a3a\">╺━━━━━━━━━━━━━━━━━━━━━━━━━━━━</span> <span style=\"color: #000080; text-decoration-color: #000080; font-weight: bold\">2/10</span> [ <span style=\"color: #808000; text-decoration-color: #808000\">0:00:05</span> &lt; <span style=\"color: #008080; text-decoration-color: #008080\">0:00:21</span> | <span style=\"color: #800000; text-decoration-color: #800000\">0.4</span> <span style=\"color: #800000; text-decoration-color: #800000\">chunk/s</span> ]\n",
       "</pre>\n"
      ],
      "text/plain": [
       "\u001b[1;34mProcessing\u001b[0m \u001b[35m 20%\u001b[0m \u001b[38;2;249;38;114m━━━━━━━\u001b[0m\u001b[38;5;237m╺\u001b[0m\u001b[38;5;237m━━━━━━━━━━━━━━━━━━━━━━━━━━━━\u001b[0m \u001b[1;34m2/10\u001b[0m [ \u001b[33m0:00:05\u001b[0m < \u001b[36m0:00:21\u001b[0m | \u001b[31m0.4\u001b[0m \u001b[31mchunk/s\u001b[0m ]\n"
      ]
     },
     "metadata": {},
     "output_type": "display_data"
    },
    {
     "data": {
      "text/html": [
       "<pre style=\"white-space:pre;overflow-x:auto;line-height:normal;font-family:Menlo,'DejaVu Sans Mono',consolas,'Courier New',monospace\"><span style=\"color: #000080; text-decoration-color: #000080; font-weight: bold\">Processing</span> <span style=\"color: #800080; text-decoration-color: #800080\"> 30%</span> <span style=\"color: #f92672; text-decoration-color: #f92672\">━━━━━━━━━━╸</span><span style=\"color: #3a3a3a; text-decoration-color: #3a3a3a\">━━━━━━━━━━━━━━━━━━━━━━━━━</span> <span style=\"color: #000080; text-decoration-color: #000080; font-weight: bold\">3/10</span> [ <span style=\"color: #808000; text-decoration-color: #808000\">0:00:07</span> &lt; <span style=\"color: #008080; text-decoration-color: #008080\">0:00:18</span> | <span style=\"color: #800000; text-decoration-color: #800000\">0.4</span> <span style=\"color: #800000; text-decoration-color: #800000\">chunk/s</span> ]\n",
       "</pre>\n"
      ],
      "text/plain": [
       "\u001b[1;34mProcessing\u001b[0m \u001b[35m 30%\u001b[0m \u001b[38;2;249;38;114m━━━━━━━━━━\u001b[0m\u001b[38;2;249;38;114m╸\u001b[0m\u001b[38;5;237m━━━━━━━━━━━━━━━━━━━━━━━━━\u001b[0m \u001b[1;34m3/10\u001b[0m [ \u001b[33m0:00:07\u001b[0m < \u001b[36m0:00:18\u001b[0m | \u001b[31m0.4\u001b[0m \u001b[31mchunk/s\u001b[0m ]\n"
      ]
     },
     "metadata": {},
     "output_type": "display_data"
    },
    {
     "data": {
      "text/html": [
       "<pre style=\"white-space:pre;overflow-x:auto;line-height:normal;font-family:Menlo,'DejaVu Sans Mono',consolas,'Courier New',monospace\"><span style=\"color: #000080; text-decoration-color: #000080; font-weight: bold\">Processing</span> <span style=\"color: #800080; text-decoration-color: #800080\"> 40%</span> <span style=\"color: #f92672; text-decoration-color: #f92672\">━━━━━━━━━━━━━━</span><span style=\"color: #3a3a3a; text-decoration-color: #3a3a3a\">╺━━━━━━━━━━━━━━━━━━━━━</span> <span style=\"color: #000080; text-decoration-color: #000080; font-weight: bold\">4/10</span> [ <span style=\"color: #808000; text-decoration-color: #808000\">0:00:10</span> &lt; <span style=\"color: #008080; text-decoration-color: #008080\">0:00:16</span> | <span style=\"color: #800000; text-decoration-color: #800000\">0.4</span> <span style=\"color: #800000; text-decoration-color: #800000\">chunk/s</span> ]\n",
       "</pre>\n"
      ],
      "text/plain": [
       "\u001b[1;34mProcessing\u001b[0m \u001b[35m 40%\u001b[0m \u001b[38;2;249;38;114m━━━━━━━━━━━━━━\u001b[0m\u001b[38;5;237m╺\u001b[0m\u001b[38;5;237m━━━━━━━━━━━━━━━━━━━━━\u001b[0m \u001b[1;34m4/10\u001b[0m [ \u001b[33m0:00:10\u001b[0m < \u001b[36m0:00:16\u001b[0m | \u001b[31m0.4\u001b[0m \u001b[31mchunk/s\u001b[0m ]\n"
      ]
     },
     "metadata": {},
     "output_type": "display_data"
    },
    {
     "data": {
      "text/html": [
       "<pre style=\"white-space:pre;overflow-x:auto;line-height:normal;font-family:Menlo,'DejaVu Sans Mono',consolas,'Courier New',monospace\"><span style=\"color: #000080; text-decoration-color: #000080; font-weight: bold\">Processing</span> <span style=\"color: #800080; text-decoration-color: #800080\"> 50%</span> <span style=\"color: #f92672; text-decoration-color: #f92672\">━━━━━━━━━━━━━━━━━━</span><span style=\"color: #3a3a3a; text-decoration-color: #3a3a3a\">╺━━━━━━━━━━━━━━━━━</span> <span style=\"color: #000080; text-decoration-color: #000080; font-weight: bold\">5/10</span> [ <span style=\"color: #808000; text-decoration-color: #808000\">0:00:13</span> &lt; <span style=\"color: #008080; text-decoration-color: #008080\">0:00:14</span> | <span style=\"color: #800000; text-decoration-color: #800000\">0.4</span> <span style=\"color: #800000; text-decoration-color: #800000\">chunk/s</span> ]\n",
       "</pre>\n"
      ],
      "text/plain": [
       "\u001b[1;34mProcessing\u001b[0m \u001b[35m 50%\u001b[0m \u001b[38;2;249;38;114m━━━━━━━━━━━━━━━━━━\u001b[0m\u001b[38;5;237m╺\u001b[0m\u001b[38;5;237m━━━━━━━━━━━━━━━━━\u001b[0m \u001b[1;34m5/10\u001b[0m [ \u001b[33m0:00:13\u001b[0m < \u001b[36m0:00:14\u001b[0m | \u001b[31m0.4\u001b[0m \u001b[31mchunk/s\u001b[0m ]\n"
      ]
     },
     "metadata": {},
     "output_type": "display_data"
    },
    {
     "data": {
      "text/html": [
       "<pre style=\"white-space:pre;overflow-x:auto;line-height:normal;font-family:Menlo,'DejaVu Sans Mono',consolas,'Courier New',monospace\"><span style=\"color: #000080; text-decoration-color: #000080; font-weight: bold\">Processing</span> <span style=\"color: #800080; text-decoration-color: #800080\"> 60%</span> <span style=\"color: #f92672; text-decoration-color: #f92672\">━━━━━━━━━━━━━━━━━━━━━╸</span><span style=\"color: #3a3a3a; text-decoration-color: #3a3a3a\">━━━━━━━━━━━━━━</span> <span style=\"color: #000080; text-decoration-color: #000080; font-weight: bold\">6/10</span> [ <span style=\"color: #808000; text-decoration-color: #808000\">0:00:21</span> &lt; <span style=\"color: #008080; text-decoration-color: #008080\">0:00:16</span> | <span style=\"color: #800000; text-decoration-color: #800000\">0.3</span> <span style=\"color: #800000; text-decoration-color: #800000\">chunk/s</span> ]\n",
       "</pre>\n"
      ],
      "text/plain": [
       "\u001b[1;34mProcessing\u001b[0m \u001b[35m 60%\u001b[0m \u001b[38;2;249;38;114m━━━━━━━━━━━━━━━━━━━━━\u001b[0m\u001b[38;2;249;38;114m╸\u001b[0m\u001b[38;5;237m━━━━━━━━━━━━━━\u001b[0m \u001b[1;34m6/10\u001b[0m [ \u001b[33m0:00:21\u001b[0m < \u001b[36m0:00:16\u001b[0m | \u001b[31m0.3\u001b[0m \u001b[31mchunk/s\u001b[0m ]\n"
      ]
     },
     "metadata": {},
     "output_type": "display_data"
    },
    {
     "data": {
      "text/html": [
       "<pre style=\"white-space:pre;overflow-x:auto;line-height:normal;font-family:Menlo,'DejaVu Sans Mono',consolas,'Courier New',monospace\"><span style=\"color: #000080; text-decoration-color: #000080; font-weight: bold\">Processing</span> <span style=\"color: #800080; text-decoration-color: #800080\"> 70%</span> <span style=\"color: #f92672; text-decoration-color: #f92672\">━━━━━━━━━━━━━━━━━━━━━━━━━</span><span style=\"color: #3a3a3a; text-decoration-color: #3a3a3a\">╺━━━━━━━━━━</span> <span style=\"color: #000080; text-decoration-color: #000080; font-weight: bold\">7/10</span> [ <span style=\"color: #808000; text-decoration-color: #808000\">0:00:23</span> &lt; <span style=\"color: #008080; text-decoration-color: #008080\">0:00:11</span> | <span style=\"color: #800000; text-decoration-color: #800000\">0.3</span> <span style=\"color: #800000; text-decoration-color: #800000\">chunk/s</span> ]\n",
       "</pre>\n"
      ],
      "text/plain": [
       "\u001b[1;34mProcessing\u001b[0m \u001b[35m 70%\u001b[0m \u001b[38;2;249;38;114m━━━━━━━━━━━━━━━━━━━━━━━━━\u001b[0m\u001b[38;5;237m╺\u001b[0m\u001b[38;5;237m━━━━━━━━━━\u001b[0m \u001b[1;34m7/10\u001b[0m [ \u001b[33m0:00:23\u001b[0m < \u001b[36m0:00:11\u001b[0m | \u001b[31m0.3\u001b[0m \u001b[31mchunk/s\u001b[0m ]\n"
      ]
     },
     "metadata": {},
     "output_type": "display_data"
    },
    {
     "data": {
      "text/html": [
       "<pre style=\"white-space:pre;overflow-x:auto;line-height:normal;font-family:Menlo,'DejaVu Sans Mono',consolas,'Courier New',monospace\"><span style=\"color: #000080; text-decoration-color: #000080; font-weight: bold\">Processing</span> <span style=\"color: #800080; text-decoration-color: #800080\"> 80%</span> <span style=\"color: #f92672; text-decoration-color: #f92672\">━━━━━━━━━━━━━━━━━━━━━━━━━━━━╸</span><span style=\"color: #3a3a3a; text-decoration-color: #3a3a3a\">━━━━━━━</span> <span style=\"color: #000080; text-decoration-color: #000080; font-weight: bold\">8/10</span> [ <span style=\"color: #808000; text-decoration-color: #808000\">0:00:25</span> &lt; <span style=\"color: #008080; text-decoration-color: #008080\">0:00:07</span> | <span style=\"color: #800000; text-decoration-color: #800000\">0.3</span> <span style=\"color: #800000; text-decoration-color: #800000\">chunk/s</span> ]\n",
       "</pre>\n"
      ],
      "text/plain": [
       "\u001b[1;34mProcessing\u001b[0m \u001b[35m 80%\u001b[0m \u001b[38;2;249;38;114m━━━━━━━━━━━━━━━━━━━━━━━━━━━━\u001b[0m\u001b[38;2;249;38;114m╸\u001b[0m\u001b[38;5;237m━━━━━━━\u001b[0m \u001b[1;34m8/10\u001b[0m [ \u001b[33m0:00:25\u001b[0m < \u001b[36m0:00:07\u001b[0m | \u001b[31m0.3\u001b[0m \u001b[31mchunk/s\u001b[0m ]\n"
      ]
     },
     "metadata": {},
     "output_type": "display_data"
    },
    {
     "data": {
      "text/html": [
       "<pre style=\"white-space:pre;overflow-x:auto;line-height:normal;font-family:Menlo,'DejaVu Sans Mono',consolas,'Courier New',monospace\"><span style=\"color: #000080; text-decoration-color: #000080; font-weight: bold\">Processing</span> <span style=\"color: #800080; text-decoration-color: #800080\"> 90%</span> <span style=\"color: #f92672; text-decoration-color: #f92672\">━━━━━━━━━━━━━━━━━━━━━━━━━━━━━━━━</span><span style=\"color: #3a3a3a; text-decoration-color: #3a3a3a\">╺━━━</span> <span style=\"color: #000080; text-decoration-color: #000080; font-weight: bold\">9/10</span> [ <span style=\"color: #808000; text-decoration-color: #808000\">0:00:27</span> &lt; <span style=\"color: #008080; text-decoration-color: #008080\">0:00:04</span> | <span style=\"color: #800000; text-decoration-color: #800000\">0.3</span> <span style=\"color: #800000; text-decoration-color: #800000\">chunk/s</span> ]\n",
       "</pre>\n"
      ],
      "text/plain": [
       "\u001b[1;34mProcessing\u001b[0m \u001b[35m 90%\u001b[0m \u001b[38;2;249;38;114m━━━━━━━━━━━━━━━━━━━━━━━━━━━━━━━━\u001b[0m\u001b[38;5;237m╺\u001b[0m\u001b[38;5;237m━━━\u001b[0m \u001b[1;34m9/10\u001b[0m [ \u001b[33m0:00:27\u001b[0m < \u001b[36m0:00:04\u001b[0m | \u001b[31m0.3\u001b[0m \u001b[31mchunk/s\u001b[0m ]\n"
      ]
     },
     "metadata": {},
     "output_type": "display_data"
    },
    {
     "data": {
      "text/html": [
       "<pre style=\"white-space:pre;overflow-x:auto;line-height:normal;font-family:Menlo,'DejaVu Sans Mono',consolas,'Courier New',monospace\"><span style=\"color: #000080; text-decoration-color: #000080; font-weight: bold\">Processing</span> <span style=\"color: #800080; text-decoration-color: #800080\">100%</span> <span style=\"color: #729c1f; text-decoration-color: #729c1f\">━━━━━━━━━━━━━━━━━━━━━━━━━━━━━━━━━━━</span> <span style=\"color: #000080; text-decoration-color: #000080; font-weight: bold\">10/10</span> [ <span style=\"color: #808000; text-decoration-color: #808000\">0:00:29</span> &lt; <span style=\"color: #008080; text-decoration-color: #008080\">0:00:00</span> | <span style=\"color: #800000; text-decoration-color: #800000\">0.3</span> <span style=\"color: #800000; text-decoration-color: #800000\">chunk/s</span> ]\n",
       "</pre>\n"
      ],
      "text/plain": [
       "\u001b[1;34mProcessing\u001b[0m \u001b[35m100%\u001b[0m \u001b[38;2;114;156;31m━━━━━━━━━━━━━━━━━━━━━━━━━━━━━━━━━━━\u001b[0m \u001b[1;34m10/10\u001b[0m [ \u001b[33m0:00:29\u001b[0m < \u001b[36m0:00:00\u001b[0m | \u001b[31m0.3\u001b[0m \u001b[31mchunk/s\u001b[0m ]\n"
      ]
     },
     "metadata": {},
     "output_type": "display_data"
    },
    {
     "data": {
      "text/html": [
       "<pre style=\"white-space:pre;overflow-x:auto;line-height:normal;font-family:Menlo,'DejaVu Sans Mono',consolas,'Courier New',monospace\"></pre>\n"
      ],
      "text/plain": []
     },
     "metadata": {},
     "output_type": "display_data"
    },
    {
     "data": {
      "text/html": [
       "<pre style=\"white-space:pre;overflow-x:auto;line-height:normal;font-family:Menlo,'DejaVu Sans Mono',consolas,'Courier New',monospace\">\n",
       "</pre>\n"
      ],
      "text/plain": [
       "\n"
      ]
     },
     "metadata": {},
     "output_type": "display_data"
    },
    {
     "data": {
      "text/plain": [
       "{'nClusters': <Hist (sample,nClusters) instance at 0x7fb49b228c10>,\n",
       " 'eta': <Hist (sample,eta) instance at 0x7fb49bce31d0>,\n",
       " 'phi': <Hist (sample,phi) instance at 0x7fb49a3e85d0>,\n",
       " 'size': <Hist (sample,size) instance at 0x7fb49a456c10>,\n",
       " 'time': <Hist (sample,time) instance at 0x7fb49a446cd0>,\n",
       " 'nME11_12': <Hist (sample,nME11_12) instance at 0x7fb49a45c690>,\n",
       " 'x': <Hist (sample,x) instance at 0x7fb49a45ced0>,\n",
       " 'y': <Hist (sample,y) instance at 0x7fb49bd18210>,\n",
       " 'z': <Hist (sample,z) instance at 0x7fb49a44dd50>,\n",
       " 'Nstation10': <Hist (sample,Nstation10) instance at 0x7fb49a44df90>,\n",
       " 'AvgStation10': <Hist (sample,AvgStation10) instance at 0x7fb49a44dc10>,\n",
       " 'timeSpread': <Hist (sample,timeSpread) instance at 0x7fb49a44da90>,\n",
       " 'elctHMT_ME13': <Hist (sample,size) instance at 0x7fb49a44d910>,\n",
       " 'elctHMT_ME21': <Hist (sample,size) instance at 0x7fb49a44d790>,\n",
       " 'elctHMT_ME22': <Hist (sample,size) instance at 0x7fb49a44d610>,\n",
       " 'elctHMT_ME31': <Hist (sample,size) instance at 0x7fb49a44d390>,\n",
       " 'elctHMT_ME32': <Hist (sample,size) instance at 0x7fb49a44d110>,\n",
       " 'elctHMT_ME41': <Hist (sample,size) instance at 0x7fb49a458090>,\n",
       " 'elctHMT_ME42': <Hist (sample,size) instance at 0x7fb49a458ed0>,\n",
       " 'ME11': <Hist (sample,ClusterSize) instance at 0x7fb49a458c50>,\n",
       " 'ME12': <Hist (sample,ClusterSize) instance at 0x7fb49a4589d0>,\n",
       " 'ME13': <Hist (sample,ClusterSize) instance at 0x7fb49a458750>,\n",
       " 'ME21': <Hist (sample,ClusterSize) instance at 0x7fb49a4584d0>,\n",
       " 'ME22': <Hist (sample,ClusterSize) instance at 0x7fb49a45b690>,\n",
       " 'ME31': <Hist (sample,ClusterSize) instance at 0x7fb49a4582d0>,\n",
       " 'ME32': <Hist (sample,ClusterSize) instance at 0x7fb49a459c50>,\n",
       " 'ME41': <Hist (sample,ClusterSize) instance at 0x7fb49a459350>,\n",
       " 'ME42': <Hist (sample,ClusterSize) instance at 0x7fb49a459a50>,\n",
       " 'ME11_120': <Hist (sample,ClusterSize) instance at 0x7fb49a443f10>,\n",
       " 'ME11_100': <Hist (sample,ClusterSize) instance at 0x7fb49a37f2d0>,\n",
       " 'ME11_12': <Hist (sample,ClusterSize) instance at 0x7fb49a42e810>,\n",
       " 'ME12_120': <Hist (sample,ClusterSize) instance at 0x7fb49a41e410>,\n",
       " 'ME12_100': <Hist (sample,ClusterSize) instance at 0x7fb49a427ad0>,\n",
       " 'ME12_12': <Hist (sample,ClusterSize) instance at 0x7fb49a472810>,\n",
       " 'ME13_7': <Hist (sample,ClusterSize) instance at 0x7fb49a452d10>,\n",
       " 'ME21_23': <Hist (sample,ClusterSize) instance at 0x7fb49a45ed50>,\n",
       " 'ME22_12': <Hist (sample,ClusterSize) instance at 0x7fb49a38add0>,\n",
       " 'ME31_21': <Hist (sample,ClusterSize) instance at 0x7fb49a3a8310>,\n",
       " 'ME32_12': <Hist (sample,ClusterSize) instance at 0x7fb49a37c6d0>,\n",
       " 'ME41_25': <Hist (sample,ClusterSize) instance at 0x7fb49a37cdd0>,\n",
       " 'ME42_12': <Hist (sample,ClusterSize) instance at 0x7fb49a37c290>}"
      ]
     },
     "execution_count": 5,
     "metadata": {},
     "output_type": "execute_result"
    }
   ],
   "source": [
    "futures_run = processor.Runner(\n",
    "#     executor = processor.FuturesExecutor(compression=None, workers=2),\n",
    "    executor = processor.IterativeExecutor(compression=None),    \n",
    "    schema=BaseSchema,\n",
    "    maxchunks=10,\n",
    ")\n",
    "\n",
    "out = futures_run(\n",
    "    fileset,\n",
    "    'simpleCSCshowerFilter/hmt',\n",
    "    processor_instance=MyProcessor()\n",
    ")\n",
    "out"
   ]
  },
  {
   "cell_type": "code",
   "execution_count": 9,
   "metadata": {},
   "outputs": [
    {
     "name": "stderr",
     "output_type": "stream",
     "text": [
      "/uscms/home/kkwok/work/LLP/CMSSW_10_6_20/src/llp_analyzer/coffeaenv/lib/python3.7/site-packages/coffea/hist/plot.py:427: RuntimeWarning: invalid value encountered in true_divide\n",
      "  rsumw = sumw_num / sumw_denom\n"
     ]
    },
    {
     "data": {
      "text/plain": [
       "<AxesSubplot:xlabel='ClusterSize', ylabel='Events'>"
      ]
     },
     "execution_count": 9,
     "metadata": {},
     "output_type": "execute_result"
    },
    {
     "data": {
      "image/png": "[encoded data removed]",
      "text/plain": [
       "<Figure size 432x288 with 1 Axes>"
      ]
     },
     "metadata": {
      "needs_background": "light"
     },
     "output_type": "display_data"
    }
   ],
   "source": [
    "h = out[\"ME22_12\"]\n",
    "hist.plotratio(num=h.integrate(\"sample\",'numer'),\n",
    "                   denom=h.integrate(\"sample\",'denom'),\n",
    "                    xerr=True,\n",
    "                   error_opts={\"linestyle\":'none',},\n",
    "#                    ax=ax,clear=False\n",
    "                  )"
   ]
  },
  {
   "cell_type": "code",
   "execution_count": null,
   "metadata": {},
   "outputs": [],
   "source": []
  }
 ],
 "metadata": {
  "kernelspec": {
   "display_name": "coffeaenv",
   "language": "python",
   "name": "coffeaenv"
  },
  "language_info": {
   "codemirror_mode": {
    "name": "ipython",
    "version": 3
   },
   "file_extension": ".py",
   "mimetype": "text/x-python",
   "name": "python",
   "nbconvert_exporter": "python",
   "pygments_lexer": "ipython3",
   "version": "3.7.6"
  }
 },
 "nbformat": 4,
 "nbformat_minor": 2
}
