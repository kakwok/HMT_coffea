{
 "cells": [
  {
   "cell_type": "code",
   "execution_count": 1,
   "metadata": {},
   "outputs": [],
   "source": [
    "import numpy as np\n",
    "import matplotlib.pyplot as plt\n",
    "import awkward as ak\n",
    "from coffea import hist, processor\n",
    "import coffea\n",
    "import uproot\n",
    "import sys\n",
    "sys.path.insert(0,\"../\")\n",
    "# from corrections import add_pileup_weight\n",
    "\n",
    "import mplhep as hep\n",
    "import pickle\n",
    "import pandas as pd\n",
    "import glob"
   ]
  },
  {
   "cell_type": "code",
   "execution_count": 2,
   "metadata": {},
   "outputs": [
    {
     "name": "stderr",
     "output_type": "stream",
     "text": [
      "/cvmfs/sft.cern.ch/lcg/views/LCG_98python3/x86_64-centos7-gcc9-opt/lib/python3.7/site-packages/ipykernel_launcher.py:1: FutureWarning: ``set_style`` is deprecated: Naming convention is changing to match mpl. Use ``mplhep.style.use()``.\n",
      "  \"\"\"Entry point for launching an IPython kernel.\n"
     ]
    }
   ],
   "source": [
    "hep.set_style(hep.style.CMS)"
   ]
  },
  {
   "cell_type": "code",
   "execution_count": 3,
   "metadata": {},
   "outputs": [],
   "source": [
    "from coffea.nanoevents.methods import candidate\n",
    "from coffea.nanoevents.methods import vector\n",
    "ak.behavior.update(candidate.behavior)\n",
    "\n",
    "def getLZDF(f,nEvents=-1,version=\"new\"):\n",
    "    events_raw = uproot.open(f)['MuonSystem']\n",
    "    df = coffea.processor.LazyDataFrame(events_raw,entrystop=nEvents)\n",
    "    start,stop = df._branchargs['entry_start'],df._branchargs['entry_stop']\n",
    "    events = uproot.lazy(df._tree)\n",
    "    events = events[start:stop]\n",
    "    return pack(events)\n",
    "\n",
    "def pack(events):\n",
    "    events.info=ak.zip({\n",
    "        \"runNum\": events.runNum,\n",
    "        \"lumiNum\": events.lumiNum,\n",
    "        \"evtNum\": events.eventNum,\n",
    "        }\n",
    "    )\n",
    "    events.cls=ak.zip({\n",
    "        'eta':events.ca4CSCclusterEta,\n",
    "        'phi':events.ca4CSCclusterPhi,\n",
    "        'x':events.ca4CSCclusterX,        \n",
    "        'y':events.ca4CSCclusterY,\n",
    "        'z':events.ca4CSCclusterZ,                \n",
    "        'size':events.ca4CSCclusterSize,\n",
    "        'time':events.ca4CSCclusterTime,\n",
    "        'timeSpread':events.ca4CSCclusterTimeSpread,            \n",
    "        \"nME11_12\": events.ca4CSCclusterME11_12,\n",
    "        'time':events.ca4CSCclusterTime,            \n",
    "        \"nStation10\": events.ca4CSCclusterNstation10,\n",
    "        \"avgStation10\": events.ca4CSCclusterAvgStation10,            \n",
    "        }    \n",
    "    )\n",
    "    events.cls_dt=ak.zip({\n",
    "        'eta': events.ca4DTclusterEta,\n",
    "        'phi': events.ca4DTclusterPhi,\n",
    "        'x':   events.ca4DTclusterX,        \n",
    "        'y':   events.ca4DTclusterY,\n",
    "        'z':   events.ca4DTclusterZ,                \n",
    "        'size':events.ca4DTclusterSize,\n",
    "        'time':events.ca4DTclusterTime,\n",
    "        \"nMB1\": events.ca4DTclusterMB1,\n",
    "        \"nMB2\": events.ca4DTclusterMB2,            \n",
    "        \"nStation10\": events.ca4DTclusterNstation10,\n",
    "        \"avgStation10\": events.ca4DTclusterAvgStation10,            \n",
    "        }    \n",
    "    )\n",
    "    return events"
   ]
  },
  {
   "cell_type": "markdown",
   "metadata": {},
   "source": [
    "# 1. Rate calculation"
   ]
  },
  {
   "cell_type": "code",
   "execution_count": 21,
   "metadata": {},
   "outputs": [],
   "source": [
    "base = \"/uscms/home/kkwok/work/LLP/HLT/v2/CMSSW_12_1_0_pre4/src/RecoMuon/MuonRechitClusterProducer/test/\"\n",
    "dataOld = getLZDF(base+\"analyzer_ca4_zerobias_Nov23.root\")\n",
    "# dataNew = getLZDF(\"../analyzed_L1skim_data.root\")\n",
    "dataNew = getLZDF(\"./analyzer_ca4_zerobias_Feb14.root\")"
   ]
  },
  {
   "cell_type": "markdown",
   "metadata": {},
   "source": [
    "## 1a) Golden JSON\n",
    "\n",
    "First, need to make sure the skimmed events are in golden JSON"
   ]
  },
  {
   "cell_type": "code",
   "execution_count": 18,
   "metadata": {},
   "outputs": [],
   "source": [
    "from coffea import lumi_tools\n",
    "\n",
    "lumivalues = lumi_tools.LumiData(\"./lumi2018.csv\")\n",
    "\n",
    "runs  = lumivalues._lumidata[:, 0].astype('u4')\n",
    "lumis = lumivalues._lumidata[:, 1].astype('u4')\n",
    "\n",
    "ll = lumi_tools.LumiList(runs,lumis)\n",
    "# print(lumivalues.get_lumi(ll))\n"
   ]
  },
  {
   "cell_type": "code",
   "execution_count": 32,
   "metadata": {},
   "outputs": [],
   "source": [
    "def GetGolden(events,ll):\n",
    "    skimEvents = np.stack([events.runNum.to_numpy(),events.lumiNum.to_numpy()],axis=1)\n",
    "\n",
    "    isGolden =np.array([ ak.any(ak.all(np.isin(ll.array,pair),axis=1)) for pair in skimEvents  ])\n",
    "    return isGolden"
   ]
  },
  {
   "cell_type": "markdown",
   "metadata": {},
   "source": [
    "## 1b) HLT event selection"
   ]
  },
  {
   "cell_type": "code",
   "execution_count": 9,
   "metadata": {},
   "outputs": [],
   "source": [
    "def cutFlow_CSCpaths(events,thres=[],isData=False,useFirstCls=False,isGolden=[]):\n",
    "    if not isData:\n",
    "        L1 = (events.passL1==1)\n",
    "        L1cls = events.cls[L1]\n",
    "    elif len(isGolden)>0:\n",
    "        if useFirstCls:\n",
    "            L1cls = ak.firsts(events.cls[isGolden])\n",
    "        else:\n",
    "            L1cls = (events.cls[isGolden])\n",
    "    elif useFirstCls:\n",
    "            L1cls = ak.firsts(events.cls)\n",
    "    else:\n",
    "            L1cls = (events.cls)\n",
    "\n",
    "#     L1cls = L1cls[(L1cls.time<12.5)&(L1cls.time>-5)&(L1cls.nME11_12==0)]\n",
    "    cls_sel=(L1cls.time<12.5)&(L1cls.time>-5)&(L1cls.nME11_12==0)\n",
    "\n",
    "    if not useFirstCls:\n",
    "#         c1 = ak.any(cls_sel &(abs(L1cls.eta)<=1.9)&(L1cls.nStation10>=2) & (L1cls.size>=thres[0]),axis=1)\n",
    "#         c2 = ak.any(cls_sel &(abs(L1cls.eta)<=1.9)&(L1cls.nStation10<2)  & (L1cls.size>=thres[1]),axis=1)\n",
    "#         c3 = ak.any(cls_sel &(abs(L1cls.eta)>1.9) &(L1cls.nStation10>=2) & (L1cls.size>=thres[2]),axis=1)\n",
    "#         c4 = ak.any(cls_sel &(abs(L1cls.eta)>1.9) &(L1cls.nStation10<2)  & (L1cls.size>=thres[3]),axis=1)        \n",
    "        c1 = ((abs(L1cls.eta)<=1.9)&(L1cls.nStation10>=2) & (L1cls.size>=thres[0]))\n",
    "        c2 = ((abs(L1cls.eta)<=1.9)&(L1cls.nStation10<2) & (L1cls.size>=thres[1]))\n",
    "        c3 =( (abs(L1cls.eta)>1.9)&(L1cls.nStation10>=2) & (L1cls.size>=thres[2]))\n",
    "        c4 =( (abs(L1cls.eta)>1.9)&(L1cls.nStation10<2) & (L1cls.size>=thres[3]))   \n",
    "      \n",
    "        \n",
    "    else:\n",
    "        c1 = ((abs(L1cls.eta)<=1.9)&(L1cls.nStation10>=2) & (L1cls.size>=thres[0]))\n",
    "        c2 = ((abs(L1cls.eta)<=1.9)&(L1cls.nStation10<2) & (L1cls.size>=thres[1]))\n",
    "        c3 =( (abs(L1cls.eta)>1.9)&(L1cls.nStation10>=2) & (L1cls.size>=thres[2]))\n",
    "        c4 =( (abs(L1cls.eta)>1.9)&(L1cls.nStation10<2) & (L1cls.size>=thres[3]))\n",
    "\n",
    "    mask = (c1|c2|c3|c4)&cls_sel        \n",
    "    if isData:\n",
    "        eff = len(L1cls[ak.any(mask,axis=1)])\n",
    "    else:\n",
    "        eff = len(L1cls[(c1|c2|c3|c4)])/ak.sum(L1)\n",
    "    \n",
    "    return eff,L1cls[ak.any(mask,axis=1)],mask\n",
    "\n",
    "\n",
    "def cutFlow_DTpaths(events,thres=[],isData=False,useFirstCls=False,isGolden=True):\n",
    "    if not isData:\n",
    "        L1 = (events.passL1==1)\n",
    "        L1cls = events.cls_dt[L1]\n",
    "    else:\n",
    "        if useFirstCls:\n",
    "            L1cls = ak.firsts(events.cls_dt[isGolden])\n",
    "        else:\n",
    "            L1cls = (events.cls_dt[isGolden])  \n",
    "\n",
    "    if not useFirstCls:\n",
    "        c1 = ak.any( (L1cls.nMB1==0) & (L1cls.size>=thres[0]),axis=1)\n",
    "    else:\n",
    "        c1 = ((L1cls.nMB1==0) & (L1cls.size>=thres[0]))\n",
    "\n",
    "    if isData:\n",
    "        if useFirstCls:\n",
    "            eff = len(cls[~ak.is_none(cls)])\n",
    "        else:\n",
    "            eff = len(L1cls[c1])\n",
    "    else:\n",
    "        eff = len(L1cls[(c1)])/ak.sum(L1)\n",
    "    return eff,L1cls[(c1)]"
   ]
  },
  {
   "cell_type": "code",
   "execution_count": 43,
   "metadata": {},
   "outputs": [],
   "source": [
    "isGoldenNew = GetGolden(dataNew,ll)"
   ]
  },
  {
   "cell_type": "code",
   "execution_count": 36,
   "metadata": {},
   "outputs": [],
   "source": [
    "isGolden = GetGolden(dataOld,ll)"
   ]
  },
  {
   "cell_type": "code",
   "execution_count": 37,
   "metadata": {},
   "outputs": [
    {
     "data": {
      "text/plain": [
       "<Array [{runNum: 320570, lumiNum: 381, ... ] type='2645 * {\"runNum\": uint32, \"lu...'>"
      ]
     },
     "execution_count": 37,
     "metadata": {},
     "output_type": "execute_result"
    }
   ],
   "source": [
    "dataOld"
   ]
  },
  {
   "cell_type": "markdown",
   "metadata": {},
   "source": [
    "### Any cluster"
   ]
  },
  {
   "cell_type": "code",
   "execution_count": 71,
   "metadata": {},
   "outputs": [],
   "source": [
    "import pandas as pd\n",
    "def printTable(events,normHz,isGolden):\n",
    "    cols = [\"Npass\",\"Rates(Hz)\"]\n",
    "\n",
    "    norm = normHz/sum(isGolden)\n",
    "    loose,cls  = cutFlow_CSCpaths(events,[100,200,500,500],True,False,isGolden)\n",
    "    medium,cls = cutFlow_CSCpaths(events,[100,300,500,800],True,False,isGolden)\n",
    "    tight,cls  = cutFlow_CSCpaths(events,[100,500,500,800],True,False,isGolden)\n",
    "    DT50,cls  = cutFlow_DTpaths(events,[50],True,False,isGolden)\n",
    "    DT75,cls  = cutFlow_DTpaths(events,[75],True,False,isGolden)\n",
    "\n",
    "    table ={}\n",
    "    table[\"HLT_CscCluster_Loose_v0\"]        =[loose , np.round(loose  *norm,3) ]\n",
    "    table[\"HLT_CscCluster_Medium_v0\"]       =[medium, np.round(medium *norm,3) ]\n",
    "    table[\"HLT_CscCluster_Tight_v0\"]        =[tight , np.round(tight  *norm,3) ]\n",
    "    table[\"HLT_L1CSCShower_DTCluster50_v0\"] =[DT50  , np.round(DT50   *norm,3) ]\n",
    "    table[\"HLT_L1CSCShower_DTCluster75_v0\"] =[DT75  , np.round(DT75   *norm,3) ]\n",
    "\n",
    "\n",
    "    df = pd.DataFrame.from_dict(table,orient=\"index\",columns=cols)\n",
    "    df\n",
    "    return df"
   ]
  },
  {
   "cell_type": "code",
   "execution_count": 73,
   "metadata": {},
   "outputs": [
    {
     "data": {
      "text/html": [
       "<div>\n",
       "<style scoped>\n",
       "    .dataframe tbody tr th:only-of-type {\n",
       "        vertical-align: middle;\n",
       "    }\n",
       "\n",
       "    .dataframe tbody tr th {\n",
       "        vertical-align: top;\n",
       "    }\n",
       "\n",
       "    .dataframe thead th {\n",
       "        text-align: right;\n",
       "    }\n",
       "</style>\n",
       "<table border=\"1\" class=\"dataframe\">\n",
       "  <thead>\n",
       "    <tr style=\"text-align: right;\">\n",
       "      <th></th>\n",
       "      <th>Npass</th>\n",
       "      <th>Rates(Hz)</th>\n",
       "    </tr>\n",
       "  </thead>\n",
       "  <tbody>\n",
       "    <tr>\n",
       "      <th>HLT_CscCluster_Loose_v0</th>\n",
       "      <td>29</td>\n",
       "      <td>3.592</td>\n",
       "    </tr>\n",
       "    <tr>\n",
       "      <th>HLT_CscCluster_Medium_v0</th>\n",
       "      <td>18</td>\n",
       "      <td>2.229</td>\n",
       "    </tr>\n",
       "    <tr>\n",
       "      <th>HLT_CscCluster_Tight_v0</th>\n",
       "      <td>14</td>\n",
       "      <td>1.734</td>\n",
       "    </tr>\n",
       "    <tr>\n",
       "      <th>HLT_L1CSCShower_DTCluster50_v0</th>\n",
       "      <td>2</td>\n",
       "      <td>0.248</td>\n",
       "    </tr>\n",
       "    <tr>\n",
       "      <th>HLT_L1CSCShower_DTCluster75_v0</th>\n",
       "      <td>1</td>\n",
       "      <td>0.124</td>\n",
       "    </tr>\n",
       "  </tbody>\n",
       "</table>\n",
       "</div>"
      ],
      "text/plain": [
       "                                Npass  Rates(Hz)\n",
       "HLT_CscCluster_Loose_v0            29      3.592\n",
       "HLT_CscCluster_Medium_v0           18      2.229\n",
       "HLT_CscCluster_Tight_v0            14      1.734\n",
       "HLT_L1CSCShower_DTCluster50_v0      2      0.248\n",
       "HLT_L1CSCShower_DTCluster75_v0      1      0.124"
      ]
     },
     "execution_count": 73,
     "metadata": {},
     "output_type": "execute_result"
    }
   ],
   "source": [
    "printTable(dataNew,530,isGoldenNew)"
   ]
  },
  {
   "cell_type": "code",
   "execution_count": 72,
   "metadata": {},
   "outputs": [
    {
     "data": {
      "text/html": [
       "<div>\n",
       "<style scoped>\n",
       "    .dataframe tbody tr th:only-of-type {\n",
       "        vertical-align: middle;\n",
       "    }\n",
       "\n",
       "    .dataframe tbody tr th {\n",
       "        vertical-align: top;\n",
       "    }\n",
       "\n",
       "    .dataframe thead th {\n",
       "        text-align: right;\n",
       "    }\n",
       "</style>\n",
       "<table border=\"1\" class=\"dataframe\">\n",
       "  <thead>\n",
       "    <tr style=\"text-align: right;\">\n",
       "      <th></th>\n",
       "      <th>Npass</th>\n",
       "      <th>Rates(Hz)</th>\n",
       "    </tr>\n",
       "  </thead>\n",
       "  <tbody>\n",
       "    <tr>\n",
       "      <th>HLT_CscCluster_Loose_v0</th>\n",
       "      <td>18</td>\n",
       "      <td>4.041</td>\n",
       "    </tr>\n",
       "    <tr>\n",
       "      <th>HLT_CscCluster_Medium_v0</th>\n",
       "      <td>9</td>\n",
       "      <td>2.020</td>\n",
       "    </tr>\n",
       "    <tr>\n",
       "      <th>HLT_CscCluster_Tight_v0</th>\n",
       "      <td>6</td>\n",
       "      <td>1.347</td>\n",
       "    </tr>\n",
       "    <tr>\n",
       "      <th>HLT_L1CSCShower_DTCluster50_v0</th>\n",
       "      <td>0</td>\n",
       "      <td>0.000</td>\n",
       "    </tr>\n",
       "    <tr>\n",
       "      <th>HLT_L1CSCShower_DTCluster75_v0</th>\n",
       "      <td>0</td>\n",
       "      <td>0.000</td>\n",
       "    </tr>\n",
       "  </tbody>\n",
       "</table>\n",
       "</div>"
      ],
      "text/plain": [
       "                                Npass  Rates(Hz)\n",
       "HLT_CscCluster_Loose_v0            18      4.041\n",
       "HLT_CscCluster_Medium_v0            9      2.020\n",
       "HLT_CscCluster_Tight_v0             6      1.347\n",
       "HLT_L1CSCShower_DTCluster50_v0      0      0.000\n",
       "HLT_L1CSCShower_DTCluster75_v0      0      0.000"
      ]
     },
     "execution_count": 72,
     "metadata": {},
     "output_type": "execute_result"
    }
   ],
   "source": [
    "printTable(dataOld,530,isGolden)"
   ]
  },
  {
   "cell_type": "markdown",
   "metadata": {},
   "source": [
    "# 2. Signal Efficiency"
   ]
  },
  {
   "cell_type": "code",
   "execution_count": 14,
   "metadata": {},
   "outputs": [],
   "source": [
    "from signalMap import signalMap\n",
    "\n",
    "def to_name(s):\n",
    "    return \"_\".join(s.split(\"/\")[1].split(\"_\")[1:4])\n",
    "\n",
    "def getData(signal, hlt_paths):\n",
    "\n",
    "    events = getLZDF('./signal_eff_Mar/%s.root'%signal)\n",
    "\n",
    "    csc = ak.any(events.gLLP_csc,axis=1)\n",
    "    hlt = events.HLT_CscCluster225InTime_v0\n",
    "\n",
    "    name = to_name(signalMap[signal])\n",
    "\n",
    "    acc = ak.any(events.gLLP_csc,axis=1)\n",
    "    CSCorDT = ak.any(events.gLLP_dt,axis=1) | ak.any(events.gLLP_csc,axis=1)    \n",
    "    DT = ak.any(events.gLLP_dt,axis=1)       \n",
    "    data = [\n",
    "        ak.sum(acc)/len(events)    ,  ## CSC acc\n",
    "        ak.sum(DT)/len(events)     ,  ## DT acc\n",
    "        ak.sum(CSCorDT)/len(events),  ## CSC|DT acc        \n",
    "    ]\n",
    "#     print(\"acceptance = \",np.round(ak.sum(acc)/len(events),4))    \n",
    "    for path in hlt_paths:\n",
    "    #     print(path, \"%.4f\"%(ak.sum(getattr(events[acc],path))/len(allL1Events)))\n",
    "        if not \"DT\" in path:\n",
    "            data.append(ak.sum(getattr(events[acc],path))/ak.sum(acc))\n",
    "        else:\n",
    "            data.append(ak.sum(getattr(events[CSCorDT],path))/ak.sum(CSCorDT))        \n",
    "    return np.round(np.array(data),4)"
   ]
  },
  {
   "cell_type": "code",
   "execution_count": 32,
   "metadata": {},
   "outputs": [
    {
     "data": {
      "text/plain": [
       "'MH-250_MFF-60_CTau-1000mm'"
      ]
     },
     "execution_count": 32,
     "metadata": {},
     "output_type": "execute_result"
    }
   ],
   "source": [
    "to_name(signalMap[\"signal_11\"])"
   ]
  },
  {
   "cell_type": "code",
   "execution_count": 6,
   "metadata": {},
   "outputs": [],
   "source": [
    "signal = \"signal_11\"\n",
    "events = getLZDF('./signal_eff_Mar/%s.root'%signal)"
   ]
  },
  {
   "cell_type": "code",
   "execution_count": 177,
   "metadata": {},
   "outputs": [],
   "source": []
  },
  {
   "cell_type": "code",
   "execution_count": 17,
   "metadata": {},
   "outputs": [],
   "source": [
    "csc = ak.any(events.gLLP_csc,axis=1)"
   ]
  },
  {
   "cell_type": "code",
   "execution_count": 18,
   "metadata": {},
   "outputs": [
    {
     "data": {
      "text/plain": [
       "1377"
      ]
     },
     "execution_count": 18,
     "metadata": {},
     "output_type": "execute_result"
    }
   ],
   "source": [
    "ak.sum(csc)"
   ]
  },
  {
   "cell_type": "code",
   "execution_count": 22,
   "metadata": {},
   "outputs": [
    {
     "data": {
      "text/plain": [
       "0.3057371096586783"
      ]
     },
     "execution_count": 22,
     "metadata": {},
     "output_type": "execute_result"
    }
   ],
   "source": [
    "ak.sum(events[csc].HLT_CscCluster_Loose_v0)/1377"
   ]
  },
  {
   "cell_type": "code",
   "execution_count": 205,
   "metadata": {},
   "outputs": [
    {
     "data": {
      "text/plain": [
       "<Array [1, 1, 1, 1, 1, 1, ... 1, 1, 1, 1, 1, 1] type='920 * uint32'>"
      ]
     },
     "execution_count": 205,
     "metadata": {},
     "output_type": "execute_result"
    }
   ],
   "source": [
    "events[((events.HLT_CscCluster_Loose_v0==1))].HLT_CscCluster_Loose_v0"
   ]
  },
  {
   "cell_type": "code",
   "execution_count": 42,
   "metadata": {},
   "outputs": [
    {
     "data": {
      "text/plain": [
       "<Array [1, 0, 0, 1, 1, 0, ... 0, 0, 0, 0, 0, 0] type='1377 * uint32'>"
      ]
     },
     "execution_count": 42,
     "metadata": {},
     "output_type": "execute_result"
    }
   ],
   "source": [
    "events[csc].HLT_CscCluster_Loose_v0"
   ]
  },
  {
   "cell_type": "code",
   "execution_count": 34,
   "metadata": {},
   "outputs": [
    {
     "data": {
      "text/plain": [
       "421"
      ]
     },
     "execution_count": 34,
     "metadata": {},
     "output_type": "execute_result"
    }
   ],
   "source": [
    "ak.sum(events[ak.any(events.gLLP_csc,axis=1)].HLT_CscCluster_Loose_v0)"
   ]
  },
  {
   "cell_type": "code",
   "execution_count": 201,
   "metadata": {},
   "outputs": [
    {
     "data": {
      "text/plain": [
       "<Array [0, 0, 0, 1, 1, 1, ... 1, 1, 1, 1, 1, 1] type='11912 * int64'>"
      ]
     },
     "execution_count": 201,
     "metadata": {},
     "output_type": "execute_result"
    }
   ],
   "source": [
    "(ak.num(events.ca4CSCclusterSize))"
   ]
  },
  {
   "cell_type": "code",
   "execution_count": 202,
   "metadata": {},
   "outputs": [
    {
     "data": {
      "text/plain": [
       "[[],\n",
       " [],\n",
       " [],\n",
       " [-1.4225256443023682],\n",
       " [-1.4225256443023682],\n",
       " [-1.4225256443023682],\n",
       " [-1.4225256443023682],\n",
       " [-1.4225256443023682],\n",
       " [-1.4225256443023682],\n",
       " [-1.4225256443023682]]"
      ]
     },
     "execution_count": 202,
     "metadata": {},
     "output_type": "execute_result"
    }
   ],
   "source": [
    "events.ca4CSCclusterEta[:10].to_list()"
   ]
  },
  {
   "cell_type": "code",
   "execution_count": 189,
   "metadata": {},
   "outputs": [
    {
     "data": {
      "text/plain": [
       "11912"
      ]
     },
     "execution_count": 189,
     "metadata": {},
     "output_type": "execute_result"
    }
   ],
   "source": [
    "len(events.ca4CSCclusterSize)"
   ]
  },
  {
   "cell_type": "code",
   "execution_count": 213,
   "metadata": {},
   "outputs": [
    {
     "data": {
      "text/plain": [
       "[[],\n",
       " [],\n",
       " [],\n",
       " [-1.4225256443023682],\n",
       " [-1.4225256443023682],\n",
       " [-1.4225256443023682],\n",
       " [-1.4225256443023682],\n",
       " [-1.4225256443023682],\n",
       " [-1.4225256443023682],\n",
       " [-1.4225256443023682],\n",
       " [2.0468316078186035],\n",
       " [2.0468316078186035],\n",
       " [2.0468316078186035],\n",
       " [2.0468316078186035],\n",
       " [2.0468316078186035],\n",
       " [2.0468316078186035],\n",
       " [2.0468316078186035],\n",
       " [2.0468316078186035],\n",
       " [2.0468316078186035],\n",
       " [2.0468316078186035]]"
      ]
     },
     "execution_count": 213,
     "metadata": {},
     "output_type": "execute_result"
    }
   ],
   "source": [
    "events.ca4CSCclusterEta[0:20].to_list()"
   ]
  },
  {
   "cell_type": "code",
   "execution_count": 215,
   "metadata": {},
   "outputs": [
    {
     "data": {
      "text/plain": [
       "<Array [0, 0, 0, 1, 1, 1, ... 1, 1, 1, 1, 1, 1] type='11912 * int32'>"
      ]
     },
     "execution_count": 215,
     "metadata": {},
     "output_type": "execute_result"
    }
   ],
   "source": [
    "events.nca4CSCcluster"
   ]
  },
  {
   "cell_type": "code",
   "execution_count": 211,
   "metadata": {},
   "outputs": [
    {
     "data": {
      "text/plain": [
       "[0, 0, 0, 1, 1, 1, 1, 1, 1, 1]"
      ]
     },
     "execution_count": 211,
     "metadata": {},
     "output_type": "execute_result"
    }
   ],
   "source": [
    "events.nca4CSCcluster[0:10].to_list()"
   ]
  },
  {
   "cell_type": "code",
   "execution_count": 181,
   "metadata": {},
   "outputs": [
    {
     "data": {
      "text/plain": [
       "[[],\n",
       " [],\n",
       " [],\n",
       " [2072.0],\n",
       " [2072.0],\n",
       " [2072.0],\n",
       " [2072.0],\n",
       " [2072.0],\n",
       " [2072.0],\n",
       " [2072.0]]"
      ]
     },
     "execution_count": 181,
     "metadata": {},
     "output_type": "execute_result"
    }
   ],
   "source": [
    "events.cls.size[0:10].to_list()"
   ]
  },
  {
   "cell_type": "code",
   "execution_count": 85,
   "metadata": {},
   "outputs": [
    {
     "data": {
      "text/plain": [
       "<Array [[{eta: 2.05, ... avgStation10: 1.09}]] type='211 * var * {\"eta\": float32...'>"
      ]
     },
     "execution_count": 85,
     "metadata": {},
     "output_type": "execute_result"
    }
   ],
   "source": [
    "events.cls[csc][mask][notHLT]"
   ]
  },
  {
   "cell_type": "code",
   "execution_count": 128,
   "metadata": {},
   "outputs": [
    {
     "data": {
      "text/plain": [
       "<Array [[3.21e+03], [3.21e+03, ... 162], [162]] type='670 * var * float32'>"
      ]
     },
     "execution_count": 128,
     "metadata": {},
     "output_type": "execute_result"
    }
   ],
   "source": [
    "events_csc[ak.any(mask,axis=1)].cls.size"
   ]
  },
  {
   "cell_type": "code",
   "execution_count": 120,
   "metadata": {},
   "outputs": [
    {
     "data": {
      "text/plain": [
       "<Array [False, False, False, ... False, False] type='1377 * bool'>"
      ]
     },
     "execution_count": 120,
     "metadata": {},
     "output_type": "execute_result"
    }
   ],
   "source": []
  },
  {
   "cell_type": "code",
   "execution_count": 77,
   "metadata": {},
   "outputs": [],
   "source": [
    "notHLT = events[csc][mask].HLT_CscCluster_Loose_v0==0"
   ]
  },
  {
   "cell_type": "code",
   "execution_count": 10,
   "metadata": {},
   "outputs": [],
   "source": [
    "csc =ak.any(events.gLLP_csc,axis=1)\n",
    "# hlt_csc = events.cls[csc &(events.HLT_CscCluster_Loose_v0==1)]\n",
    "hlt_csc = events.cls[(events.HLT_CscCluster_Loose_v0==1)]\n",
    "events_csc = ak.zip({\n",
    "    \"cls\":events.cls[csc],\n",
    "    \"info\":events.info[csc]\n",
    "})\n",
    "n,cutFlow_csc,mask = cutFlow_CSCpaths(events,[100,200,500,500],True,False,[])\n"
   ]
  },
  {
   "cell_type": "code",
   "execution_count": 13,
   "metadata": {},
   "outputs": [
    {
     "data": {
      "image/png": "[encoded data removed]",
      "text/plain": [
       "<Figure size 2000x1200 with 12 Axes>"
      ]
     },
     "metadata": {},
     "output_type": "display_data"
    }
   ],
   "source": [
    "plt.style.use(\"default\")\n",
    "\n",
    "samples=[\n",
    "    {\"cls\":hlt_csc,\"label\":\"hlt_csc\"},\n",
    "    {\"cls\":cutFlow_csc,\"label\":\"cutFlow_csc\"},\n",
    "#     {\"cls\":events.cls[csc][mask][notHLT],\"label\":\"cutflow, not HLT\"},    \n",
    "\n",
    "]\n",
    "plotCls(samples,\"new\",False)"
   ]
  },
  {
   "cell_type": "code",
   "execution_count": null,
   "metadata": {},
   "outputs": [],
   "source": []
  },
  {
   "cell_type": "code",
   "execution_count": 166,
   "metadata": {},
   "outputs": [
    {
     "data": {
      "text/plain": [
       "0.6003330557868443"
      ]
     },
     "execution_count": 166,
     "metadata": {},
     "output_type": "execute_result"
    }
   ],
   "source": [
    "721/1201"
   ]
  },
  {
   "cell_type": "code",
   "execution_count": 149,
   "metadata": {},
   "outputs": [],
   "source": [
    "csc=ak.any(events.gLLP_csc,axis=1)\n"
   ]
  },
  {
   "cell_type": "code",
   "execution_count": 157,
   "metadata": {},
   "outputs": [],
   "source": []
  },
  {
   "cell_type": "code",
   "execution_count": 160,
   "metadata": {},
   "outputs": [
    {
     "data": {
      "text/plain": [
       "<Array [[3.21e+03], [3.21e+03, ... [770]] type='1201 * var * float32'>"
      ]
     },
     "execution_count": 160,
     "metadata": {},
     "output_type": "execute_result"
    }
   ],
   "source": [
    "events_csc"
   ]
  },
  {
   "cell_type": "code",
   "execution_count": 14,
   "metadata": {},
   "outputs": [
    {
     "data": {
      "text/plain": [
       "(632,\n",
       " <Array [[{eta: 2.05, ... avgStation10: 1.09}]] type='632 * var * {\"eta\": float32...'>)"
      ]
     },
     "execution_count": 14,
     "metadata": {},
     "output_type": "execute_result"
    }
   ],
   "source": [
    "cutFlow_CSCpaths(events_csc,[100,200,500,500],True,False,[])"
   ]
  },
  {
   "cell_type": "code",
   "execution_count": 15,
   "metadata": {},
   "outputs": [
    {
     "data": {
      "text/plain": [
       "(4955,\n",
       " <Array [[{eta: 2.05, ... avgStation10: 1.09}]] type='4955 * var * {\"eta\": float3...'>)"
      ]
     },
     "execution_count": 15,
     "metadata": {},
     "output_type": "execute_result"
    }
   ],
   "source": [
    "cutFlow_CSCpaths(events,[100,200,500,500],True,False,[])"
   ]
  },
  {
   "cell_type": "code",
   "execution_count": 16,
   "metadata": {},
   "outputs": [
    {
     "data": {
      "text/plain": [
       "<Array [3.21e+03, 3.21e+03, ... 1.11e+03, 770] type='1815 * float32'>"
      ]
     },
     "execution_count": 16,
     "metadata": {},
     "output_type": "execute_result"
    }
   ],
   "source": [
    "ak.flatten(events.cls[ak.any(events.gLLP_csc,axis=1)]).size"
   ]
  },
  {
   "cell_type": "code",
   "execution_count": 139,
   "metadata": {},
   "outputs": [
    {
     "data": {
      "text/plain": [
       "<Array [2.07e+03, 2.07e+03, ... 770, 770] type='13829 * float32'>"
      ]
     },
     "execution_count": 139,
     "metadata": {},
     "output_type": "execute_result"
    }
   ],
   "source": [
    "ak.flatten(events.cls.size)"
   ]
  },
  {
   "cell_type": "code",
   "execution_count": 140,
   "metadata": {},
   "outputs": [
    {
     "data": {
      "text/plain": [
       "<Array [{runNum: 1, lumiNum: 40, ... ] type='10468 * {\"runNum\": uint32, \"lumiNum...'>"
      ]
     },
     "execution_count": 140,
     "metadata": {},
     "output_type": "execute_result"
    }
   ],
   "source": [
    "events"
   ]
  },
  {
   "cell_type": "code",
   "execution_count": 123,
   "metadata": {},
   "outputs": [
    {
     "data": {
      "text/plain": [
       "(4282,\n",
       " <Array [[{eta: 2.05, ... avgStation10: 1.09}]] type='4282 * var * {\"eta\": float3...'>)"
      ]
     },
     "execution_count": 123,
     "metadata": {},
     "output_type": "execute_result"
    }
   ],
   "source": []
  },
  {
   "cell_type": "code",
   "execution_count": 15,
   "metadata": {
    "scrolled": false
   },
   "outputs": [],
   "source": [
    "import pandas as pd\n",
    "\n",
    "hlt_paths = [\n",
    " 'HLT_CscCluster_Loose_v0',\n",
    " 'HLT_CscCluster_Medium_v0',\n",
    " 'HLT_CscCluster_Tight_v0',\n",
    " 'HLT_L1CSCShower_DTCluster50_v0',\n",
    " 'HLT_L1CSCShower_DTCluster75_v0', \n",
    "]\n",
    "\n",
    "cols = [\"CSC acc.\",\"DT acc.\",\"CSC or DT acc.\"]+hlt_paths\n",
    "\n",
    "signals = [\n",
    " \"signal_3\",\n",
    " \"signal_4\",\n",
    " \"signal_5\",\n",
    " \"signal_6\",\n",
    " \"signal_7\",\n",
    " \"signal_8\",\n",
    " \"signal_11\",\n",
    " \"signal_12\",\n",
    " \"signal_14\",\n",
    " \"signal_15\",\n",
    "#  \"signal_18\",\n",
    " \"signal_2\",\n",
    "\n",
    "]\n",
    "table ={}\n",
    "for signal in signals:\n",
    "    table[to_name(signalMap[signal])] = getData(signal,hlt_paths)*100"
   ]
  },
  {
   "cell_type": "code",
   "execution_count": 16,
   "metadata": {},
   "outputs": [
    {
     "data": {
      "text/html": [
       "<style  type=\"text/css\" >\n",
       "    #T_8d2f4b9a_9fe8_11ec_a27c_001a4af11eb4row0_col0 {\n",
       "            text-align:  right;\n",
       "        }    #T_8d2f4b9a_9fe8_11ec_a27c_001a4af11eb4row0_col1 {\n",
       "            text-align:  right;\n",
       "        }    #T_8d2f4b9a_9fe8_11ec_a27c_001a4af11eb4row0_col2 {\n",
       "            text-align:  right;\n",
       "        }    #T_8d2f4b9a_9fe8_11ec_a27c_001a4af11eb4row0_col3 {\n",
       "            text-align:  right;\n",
       "        }    #T_8d2f4b9a_9fe8_11ec_a27c_001a4af11eb4row0_col4 {\n",
       "            text-align:  right;\n",
       "        }    #T_8d2f4b9a_9fe8_11ec_a27c_001a4af11eb4row0_col5 {\n",
       "            text-align:  right;\n",
       "        }    #T_8d2f4b9a_9fe8_11ec_a27c_001a4af11eb4row0_col6 {\n",
       "            text-align:  right;\n",
       "        }    #T_8d2f4b9a_9fe8_11ec_a27c_001a4af11eb4row0_col7 {\n",
       "            text-align:  right;\n",
       "        }    #T_8d2f4b9a_9fe8_11ec_a27c_001a4af11eb4row0_col8 {\n",
       "            text-align:  right;\n",
       "        }    #T_8d2f4b9a_9fe8_11ec_a27c_001a4af11eb4row0_col9 {\n",
       "            text-align:  right;\n",
       "        }    #T_8d2f4b9a_9fe8_11ec_a27c_001a4af11eb4row0_col10 {\n",
       "            text-align:  right;\n",
       "        }    #T_8d2f4b9a_9fe8_11ec_a27c_001a4af11eb4row1_col0 {\n",
       "            text-align:  right;\n",
       "        }    #T_8d2f4b9a_9fe8_11ec_a27c_001a4af11eb4row1_col1 {\n",
       "            text-align:  right;\n",
       "        }    #T_8d2f4b9a_9fe8_11ec_a27c_001a4af11eb4row1_col2 {\n",
       "            text-align:  right;\n",
       "        }    #T_8d2f4b9a_9fe8_11ec_a27c_001a4af11eb4row1_col3 {\n",
       "            text-align:  right;\n",
       "        }    #T_8d2f4b9a_9fe8_11ec_a27c_001a4af11eb4row1_col4 {\n",
       "            text-align:  right;\n",
       "        }    #T_8d2f4b9a_9fe8_11ec_a27c_001a4af11eb4row1_col5 {\n",
       "            text-align:  right;\n",
       "        }    #T_8d2f4b9a_9fe8_11ec_a27c_001a4af11eb4row1_col6 {\n",
       "            text-align:  right;\n",
       "        }    #T_8d2f4b9a_9fe8_11ec_a27c_001a4af11eb4row1_col7 {\n",
       "            text-align:  right;\n",
       "        }    #T_8d2f4b9a_9fe8_11ec_a27c_001a4af11eb4row1_col8 {\n",
       "            text-align:  right;\n",
       "        }    #T_8d2f4b9a_9fe8_11ec_a27c_001a4af11eb4row1_col9 {\n",
       "            text-align:  right;\n",
       "        }    #T_8d2f4b9a_9fe8_11ec_a27c_001a4af11eb4row1_col10 {\n",
       "            text-align:  right;\n",
       "        }    #T_8d2f4b9a_9fe8_11ec_a27c_001a4af11eb4row2_col0 {\n",
       "            text-align:  right;\n",
       "        }    #T_8d2f4b9a_9fe8_11ec_a27c_001a4af11eb4row2_col1 {\n",
       "            text-align:  right;\n",
       "        }    #T_8d2f4b9a_9fe8_11ec_a27c_001a4af11eb4row2_col2 {\n",
       "            text-align:  right;\n",
       "        }    #T_8d2f4b9a_9fe8_11ec_a27c_001a4af11eb4row2_col3 {\n",
       "            text-align:  right;\n",
       "        }    #T_8d2f4b9a_9fe8_11ec_a27c_001a4af11eb4row2_col4 {\n",
       "            text-align:  right;\n",
       "        }    #T_8d2f4b9a_9fe8_11ec_a27c_001a4af11eb4row2_col5 {\n",
       "            text-align:  right;\n",
       "        }    #T_8d2f4b9a_9fe8_11ec_a27c_001a4af11eb4row2_col6 {\n",
       "            text-align:  right;\n",
       "        }    #T_8d2f4b9a_9fe8_11ec_a27c_001a4af11eb4row2_col7 {\n",
       "            text-align:  right;\n",
       "        }    #T_8d2f4b9a_9fe8_11ec_a27c_001a4af11eb4row2_col8 {\n",
       "            text-align:  right;\n",
       "        }    #T_8d2f4b9a_9fe8_11ec_a27c_001a4af11eb4row2_col9 {\n",
       "            text-align:  right;\n",
       "        }    #T_8d2f4b9a_9fe8_11ec_a27c_001a4af11eb4row2_col10 {\n",
       "            text-align:  right;\n",
       "        }    #T_8d2f4b9a_9fe8_11ec_a27c_001a4af11eb4row3_col0 {\n",
       "            text-align:  right;\n",
       "        }    #T_8d2f4b9a_9fe8_11ec_a27c_001a4af11eb4row3_col1 {\n",
       "            text-align:  right;\n",
       "        }    #T_8d2f4b9a_9fe8_11ec_a27c_001a4af11eb4row3_col2 {\n",
       "            text-align:  right;\n",
       "        }    #T_8d2f4b9a_9fe8_11ec_a27c_001a4af11eb4row3_col3 {\n",
       "            text-align:  right;\n",
       "        }    #T_8d2f4b9a_9fe8_11ec_a27c_001a4af11eb4row3_col4 {\n",
       "            text-align:  right;\n",
       "        }    #T_8d2f4b9a_9fe8_11ec_a27c_001a4af11eb4row3_col5 {\n",
       "            text-align:  right;\n",
       "        }    #T_8d2f4b9a_9fe8_11ec_a27c_001a4af11eb4row3_col6 {\n",
       "            text-align:  right;\n",
       "        }    #T_8d2f4b9a_9fe8_11ec_a27c_001a4af11eb4row3_col7 {\n",
       "            text-align:  right;\n",
       "        }    #T_8d2f4b9a_9fe8_11ec_a27c_001a4af11eb4row3_col8 {\n",
       "            text-align:  right;\n",
       "        }    #T_8d2f4b9a_9fe8_11ec_a27c_001a4af11eb4row3_col9 {\n",
       "            text-align:  right;\n",
       "        }    #T_8d2f4b9a_9fe8_11ec_a27c_001a4af11eb4row3_col10 {\n",
       "            text-align:  right;\n",
       "        }    #T_8d2f4b9a_9fe8_11ec_a27c_001a4af11eb4row4_col0 {\n",
       "            text-align:  right;\n",
       "        }    #T_8d2f4b9a_9fe8_11ec_a27c_001a4af11eb4row4_col1 {\n",
       "            text-align:  right;\n",
       "        }    #T_8d2f4b9a_9fe8_11ec_a27c_001a4af11eb4row4_col2 {\n",
       "            text-align:  right;\n",
       "        }    #T_8d2f4b9a_9fe8_11ec_a27c_001a4af11eb4row4_col3 {\n",
       "            text-align:  right;\n",
       "        }    #T_8d2f4b9a_9fe8_11ec_a27c_001a4af11eb4row4_col4 {\n",
       "            text-align:  right;\n",
       "        }    #T_8d2f4b9a_9fe8_11ec_a27c_001a4af11eb4row4_col5 {\n",
       "            text-align:  right;\n",
       "        }    #T_8d2f4b9a_9fe8_11ec_a27c_001a4af11eb4row4_col6 {\n",
       "            text-align:  right;\n",
       "        }    #T_8d2f4b9a_9fe8_11ec_a27c_001a4af11eb4row4_col7 {\n",
       "            text-align:  right;\n",
       "        }    #T_8d2f4b9a_9fe8_11ec_a27c_001a4af11eb4row4_col8 {\n",
       "            text-align:  right;\n",
       "        }    #T_8d2f4b9a_9fe8_11ec_a27c_001a4af11eb4row4_col9 {\n",
       "            text-align:  right;\n",
       "        }    #T_8d2f4b9a_9fe8_11ec_a27c_001a4af11eb4row4_col10 {\n",
       "            text-align:  right;\n",
       "        }    #T_8d2f4b9a_9fe8_11ec_a27c_001a4af11eb4row5_col0 {\n",
       "            text-align:  right;\n",
       "        }    #T_8d2f4b9a_9fe8_11ec_a27c_001a4af11eb4row5_col1 {\n",
       "            text-align:  right;\n",
       "        }    #T_8d2f4b9a_9fe8_11ec_a27c_001a4af11eb4row5_col2 {\n",
       "            text-align:  right;\n",
       "        }    #T_8d2f4b9a_9fe8_11ec_a27c_001a4af11eb4row5_col3 {\n",
       "            text-align:  right;\n",
       "        }    #T_8d2f4b9a_9fe8_11ec_a27c_001a4af11eb4row5_col4 {\n",
       "            text-align:  right;\n",
       "        }    #T_8d2f4b9a_9fe8_11ec_a27c_001a4af11eb4row5_col5 {\n",
       "            text-align:  right;\n",
       "        }    #T_8d2f4b9a_9fe8_11ec_a27c_001a4af11eb4row5_col6 {\n",
       "            text-align:  right;\n",
       "        }    #T_8d2f4b9a_9fe8_11ec_a27c_001a4af11eb4row5_col7 {\n",
       "            text-align:  right;\n",
       "        }    #T_8d2f4b9a_9fe8_11ec_a27c_001a4af11eb4row5_col8 {\n",
       "            text-align:  right;\n",
       "        }    #T_8d2f4b9a_9fe8_11ec_a27c_001a4af11eb4row5_col9 {\n",
       "            text-align:  right;\n",
       "        }    #T_8d2f4b9a_9fe8_11ec_a27c_001a4af11eb4row5_col10 {\n",
       "            text-align:  right;\n",
       "        }    #T_8d2f4b9a_9fe8_11ec_a27c_001a4af11eb4row6_col0 {\n",
       "            text-align:  right;\n",
       "        }    #T_8d2f4b9a_9fe8_11ec_a27c_001a4af11eb4row6_col1 {\n",
       "            text-align:  right;\n",
       "        }    #T_8d2f4b9a_9fe8_11ec_a27c_001a4af11eb4row6_col2 {\n",
       "            text-align:  right;\n",
       "        }    #T_8d2f4b9a_9fe8_11ec_a27c_001a4af11eb4row6_col3 {\n",
       "            text-align:  right;\n",
       "        }    #T_8d2f4b9a_9fe8_11ec_a27c_001a4af11eb4row6_col4 {\n",
       "            text-align:  right;\n",
       "        }    #T_8d2f4b9a_9fe8_11ec_a27c_001a4af11eb4row6_col5 {\n",
       "            text-align:  right;\n",
       "        }    #T_8d2f4b9a_9fe8_11ec_a27c_001a4af11eb4row6_col6 {\n",
       "            text-align:  right;\n",
       "        }    #T_8d2f4b9a_9fe8_11ec_a27c_001a4af11eb4row6_col7 {\n",
       "            text-align:  right;\n",
       "        }    #T_8d2f4b9a_9fe8_11ec_a27c_001a4af11eb4row6_col8 {\n",
       "            text-align:  right;\n",
       "        }    #T_8d2f4b9a_9fe8_11ec_a27c_001a4af11eb4row6_col9 {\n",
       "            text-align:  right;\n",
       "        }    #T_8d2f4b9a_9fe8_11ec_a27c_001a4af11eb4row6_col10 {\n",
       "            text-align:  right;\n",
       "        }    #T_8d2f4b9a_9fe8_11ec_a27c_001a4af11eb4row7_col0 {\n",
       "            text-align:  right;\n",
       "        }    #T_8d2f4b9a_9fe8_11ec_a27c_001a4af11eb4row7_col1 {\n",
       "            text-align:  right;\n",
       "        }    #T_8d2f4b9a_9fe8_11ec_a27c_001a4af11eb4row7_col2 {\n",
       "            text-align:  right;\n",
       "        }    #T_8d2f4b9a_9fe8_11ec_a27c_001a4af11eb4row7_col3 {\n",
       "            text-align:  right;\n",
       "        }    #T_8d2f4b9a_9fe8_11ec_a27c_001a4af11eb4row7_col4 {\n",
       "            text-align:  right;\n",
       "        }    #T_8d2f4b9a_9fe8_11ec_a27c_001a4af11eb4row7_col5 {\n",
       "            text-align:  right;\n",
       "        }    #T_8d2f4b9a_9fe8_11ec_a27c_001a4af11eb4row7_col6 {\n",
       "            text-align:  right;\n",
       "        }    #T_8d2f4b9a_9fe8_11ec_a27c_001a4af11eb4row7_col7 {\n",
       "            text-align:  right;\n",
       "        }    #T_8d2f4b9a_9fe8_11ec_a27c_001a4af11eb4row7_col8 {\n",
       "            text-align:  right;\n",
       "        }    #T_8d2f4b9a_9fe8_11ec_a27c_001a4af11eb4row7_col9 {\n",
       "            text-align:  right;\n",
       "        }    #T_8d2f4b9a_9fe8_11ec_a27c_001a4af11eb4row7_col10 {\n",
       "            text-align:  right;\n",
       "        }</style><table id=\"T_8d2f4b9a_9fe8_11ec_a27c_001a4af11eb4\" ><thead>    <tr>        <th class=\"index_name level0\" >Higgs Mass</th>        <th class=\"col_heading level0 col0\" >125</th>        <th class=\"col_heading level0 col1\" >125</th>        <th class=\"col_heading level0 col2\" >125</th>        <th class=\"col_heading level0 col3\" >125</th>        <th class=\"col_heading level0 col4\" >125</th>        <th class=\"col_heading level0 col5\" >250</th>        <th class=\"col_heading level0 col6\" >250</th>        <th class=\"col_heading level0 col7\" >250</th>        <th class=\"col_heading level0 col8\" >350</th>        <th class=\"col_heading level0 col9\" >350</th>        <th class=\"col_heading level0 col10\" >1000</th>    </tr>    <tr>        <th class=\"index_name level1\" >LLP mass</th>        <th class=\"col_heading level1 col0\" >12</th>        <th class=\"col_heading level1 col1\" >25</th>        <th class=\"col_heading level1 col2\" >25</th>        <th class=\"col_heading level1 col3\" >50</th>        <th class=\"col_heading level1 col4\" >50</th>        <th class=\"col_heading level1 col5\" >60</th>        <th class=\"col_heading level1 col6\" >60</th>        <th class=\"col_heading level1 col7\" >120</th>        <th class=\"col_heading level1 col8\" >160</th>        <th class=\"col_heading level1 col9\" >160</th>        <th class=\"col_heading level1 col10\" >450</th>    </tr>    <tr>        <th class=\"index_name level2\" >ctau</th>        <th class=\"col_heading level2 col0\" >9000mm</th>        <th class=\"col_heading level2 col1\" >15000mm</th>        <th class=\"col_heading level2 col2\" >1500mm</th>        <th class=\"col_heading level2 col3\" >30000mm</th>        <th class=\"col_heading level2 col4\" >3000mm</th>        <th class=\"col_heading level2 col5\" >1000mm</th>        <th class=\"col_heading level2 col6\" >500mm</th>        <th class=\"col_heading level2 col7\" >10000mm</th>        <th class=\"col_heading level2 col8\" >1000mm</th>        <th class=\"col_heading level2 col9\" >500mm</th>        <th class=\"col_heading level2 col10\" >10000mm</th>    </tr></thead><tbody>\n",
       "                <tr>\n",
       "                        <th id=\"T_8d2f4b9a_9fe8_11ec_a27c_001a4af11eb4level0_row0\" class=\"row_heading level0 row0\" >CSC acc.</th>\n",
       "                        <td id=\"T_8d2f4b9a_9fe8_11ec_a27c_001a4af11eb4row0_col0\" class=\"data row0 col0\" >5.03</td>\n",
       "                        <td id=\"T_8d2f4b9a_9fe8_11ec_a27c_001a4af11eb4row0_col1\" class=\"data row0 col1\" >6.35</td>\n",
       "                        <td id=\"T_8d2f4b9a_9fe8_11ec_a27c_001a4af11eb4row0_col2\" class=\"data row0 col2\" >16.19</td>\n",
       "                        <td id=\"T_8d2f4b9a_9fe8_11ec_a27c_001a4af11eb4row0_col3\" class=\"data row0 col3\" >7.97</td>\n",
       "                        <td id=\"T_8d2f4b9a_9fe8_11ec_a27c_001a4af11eb4row0_col4\" class=\"data row0 col4\" >14.96</td>\n",
       "                        <td id=\"T_8d2f4b9a_9fe8_11ec_a27c_001a4af11eb4row0_col5\" class=\"data row0 col5\" >11.56</td>\n",
       "                        <td id=\"T_8d2f4b9a_9fe8_11ec_a27c_001a4af11eb4row0_col6\" class=\"data row0 col6\" >5.22</td>\n",
       "                        <td id=\"T_8d2f4b9a_9fe8_11ec_a27c_001a4af11eb4row0_col7\" class=\"data row0 col7\" >15.67</td>\n",
       "                        <td id=\"T_8d2f4b9a_9fe8_11ec_a27c_001a4af11eb4row0_col8\" class=\"data row0 col8\" >2.37</td>\n",
       "                        <td id=\"T_8d2f4b9a_9fe8_11ec_a27c_001a4af11eb4row0_col9\" class=\"data row0 col9\" >0.41</td>\n",
       "                        <td id=\"T_8d2f4b9a_9fe8_11ec_a27c_001a4af11eb4row0_col10\" class=\"data row0 col10\" >20.05</td>\n",
       "            </tr>\n",
       "            <tr>\n",
       "                        <th id=\"T_8d2f4b9a_9fe8_11ec_a27c_001a4af11eb4level0_row1\" class=\"row_heading level0 row1\" >DT acc.</th>\n",
       "                        <td id=\"T_8d2f4b9a_9fe8_11ec_a27c_001a4af11eb4row1_col0\" class=\"data row1 col0\" >6.94</td>\n",
       "                        <td id=\"T_8d2f4b9a_9fe8_11ec_a27c_001a4af11eb4row1_col1\" class=\"data row1 col1\" >8.04</td>\n",
       "                        <td id=\"T_8d2f4b9a_9fe8_11ec_a27c_001a4af11eb4row1_col2\" class=\"data row1 col2\" >15.02</td>\n",
       "                        <td id=\"T_8d2f4b9a_9fe8_11ec_a27c_001a4af11eb4row1_col3\" class=\"data row1 col3\" >6.94</td>\n",
       "                        <td id=\"T_8d2f4b9a_9fe8_11ec_a27c_001a4af11eb4row1_col4\" class=\"data row1 col4\" >9.63</td>\n",
       "                        <td id=\"T_8d2f4b9a_9fe8_11ec_a27c_001a4af11eb4row1_col5\" class=\"data row1 col5\" >8.92</td>\n",
       "                        <td id=\"T_8d2f4b9a_9fe8_11ec_a27c_001a4af11eb4row1_col6\" class=\"data row1 col6\" >1.85</td>\n",
       "                        <td id=\"T_8d2f4b9a_9fe8_11ec_a27c_001a4af11eb4row1_col7\" class=\"data row1 col7\" >9.03</td>\n",
       "                        <td id=\"T_8d2f4b9a_9fe8_11ec_a27c_001a4af11eb4row1_col8\" class=\"data row1 col8\" >0.66</td>\n",
       "                        <td id=\"T_8d2f4b9a_9fe8_11ec_a27c_001a4af11eb4row1_col9\" class=\"data row1 col9\" >0.09</td>\n",
       "                        <td id=\"T_8d2f4b9a_9fe8_11ec_a27c_001a4af11eb4row1_col10\" class=\"data row1 col10\" >16.54</td>\n",
       "            </tr>\n",
       "            <tr>\n",
       "                        <th id=\"T_8d2f4b9a_9fe8_11ec_a27c_001a4af11eb4level0_row2\" class=\"row_heading level0 row2\" >CSC or DT acc.</th>\n",
       "                        <td id=\"T_8d2f4b9a_9fe8_11ec_a27c_001a4af11eb4row2_col0\" class=\"data row2 col0\" >11.42</td>\n",
       "                        <td id=\"T_8d2f4b9a_9fe8_11ec_a27c_001a4af11eb4row2_col1\" class=\"data row2 col1\" >13.56</td>\n",
       "                        <td id=\"T_8d2f4b9a_9fe8_11ec_a27c_001a4af11eb4row2_col2\" class=\"data row2 col2\" >28.96</td>\n",
       "                        <td id=\"T_8d2f4b9a_9fe8_11ec_a27c_001a4af11eb4row2_col3\" class=\"data row2 col3\" >14</td>\n",
       "                        <td id=\"T_8d2f4b9a_9fe8_11ec_a27c_001a4af11eb4row2_col4\" class=\"data row2 col4\" >23.32</td>\n",
       "                        <td id=\"T_8d2f4b9a_9fe8_11ec_a27c_001a4af11eb4row2_col5\" class=\"data row2 col5\" >19.49</td>\n",
       "                        <td id=\"T_8d2f4b9a_9fe8_11ec_a27c_001a4af11eb4row2_col6\" class=\"data row2 col6\" >6.93</td>\n",
       "                        <td id=\"T_8d2f4b9a_9fe8_11ec_a27c_001a4af11eb4row2_col7\" class=\"data row2 col7\" >23.33</td>\n",
       "                        <td id=\"T_8d2f4b9a_9fe8_11ec_a27c_001a4af11eb4row2_col8\" class=\"data row2 col8\" >2.97</td>\n",
       "                        <td id=\"T_8d2f4b9a_9fe8_11ec_a27c_001a4af11eb4row2_col9\" class=\"data row2 col9\" >0.49</td>\n",
       "                        <td id=\"T_8d2f4b9a_9fe8_11ec_a27c_001a4af11eb4row2_col10\" class=\"data row2 col10\" >33.85</td>\n",
       "            </tr>\n",
       "            <tr>\n",
       "                        <th id=\"T_8d2f4b9a_9fe8_11ec_a27c_001a4af11eb4level0_row3\" class=\"row_heading level0 row3\" >HLT_CscCluster_Loose_v0</th>\n",
       "                        <td id=\"T_8d2f4b9a_9fe8_11ec_a27c_001a4af11eb4row3_col0\" class=\"data row3 col0\" >21.78</td>\n",
       "                        <td id=\"T_8d2f4b9a_9fe8_11ec_a27c_001a4af11eb4row3_col1\" class=\"data row3 col1\" >24.83</td>\n",
       "                        <td id=\"T_8d2f4b9a_9fe8_11ec_a27c_001a4af11eb4row3_col2\" class=\"data row3 col2\" >25.45</td>\n",
       "                        <td id=\"T_8d2f4b9a_9fe8_11ec_a27c_001a4af11eb4row3_col3\" class=\"data row3 col3\" >17.94</td>\n",
       "                        <td id=\"T_8d2f4b9a_9fe8_11ec_a27c_001a4af11eb4row3_col4\" class=\"data row3 col4\" >23.12</td>\n",
       "                        <td id=\"T_8d2f4b9a_9fe8_11ec_a27c_001a4af11eb4row3_col5\" class=\"data row3 col5\" >30.57</td>\n",
       "                        <td id=\"T_8d2f4b9a_9fe8_11ec_a27c_001a4af11eb4row3_col6\" class=\"data row3 col6\" >24.78</td>\n",
       "                        <td id=\"T_8d2f4b9a_9fe8_11ec_a27c_001a4af11eb4row3_col7\" class=\"data row3 col7\" >12.93</td>\n",
       "                        <td id=\"T_8d2f4b9a_9fe8_11ec_a27c_001a4af11eb4row3_col8\" class=\"data row3 col8\" >23.04</td>\n",
       "                        <td id=\"T_8d2f4b9a_9fe8_11ec_a27c_001a4af11eb4row3_col9\" class=\"data row3 col9\" >26.83</td>\n",
       "                        <td id=\"T_8d2f4b9a_9fe8_11ec_a27c_001a4af11eb4row3_col10\" class=\"data row3 col10\" >15.27</td>\n",
       "            </tr>\n",
       "            <tr>\n",
       "                        <th id=\"T_8d2f4b9a_9fe8_11ec_a27c_001a4af11eb4level0_row4\" class=\"row_heading level0 row4\" >HLT_CscCluster_Medium_v0</th>\n",
       "                        <td id=\"T_8d2f4b9a_9fe8_11ec_a27c_001a4af11eb4row4_col0\" class=\"data row4 col0\" >18.75</td>\n",
       "                        <td id=\"T_8d2f4b9a_9fe8_11ec_a27c_001a4af11eb4row4_col1\" class=\"data row4 col1\" >21.29</td>\n",
       "                        <td id=\"T_8d2f4b9a_9fe8_11ec_a27c_001a4af11eb4row4_col2\" class=\"data row4 col2\" >23</td>\n",
       "                        <td id=\"T_8d2f4b9a_9fe8_11ec_a27c_001a4af11eb4row4_col3\" class=\"data row4 col3\" >16.06</td>\n",
       "                        <td id=\"T_8d2f4b9a_9fe8_11ec_a27c_001a4af11eb4row4_col4\" class=\"data row4 col4\" >21.07</td>\n",
       "                        <td id=\"T_8d2f4b9a_9fe8_11ec_a27c_001a4af11eb4row4_col5\" class=\"data row4 col5\" >29.34</td>\n",
       "                        <td id=\"T_8d2f4b9a_9fe8_11ec_a27c_001a4af11eb4row4_col6\" class=\"data row4 col6\" >23.89</td>\n",
       "                        <td id=\"T_8d2f4b9a_9fe8_11ec_a27c_001a4af11eb4row4_col7\" class=\"data row4 col7\" >12.35</td>\n",
       "                        <td id=\"T_8d2f4b9a_9fe8_11ec_a27c_001a4af11eb4row4_col8\" class=\"data row4 col8\" >22.2</td>\n",
       "                        <td id=\"T_8d2f4b9a_9fe8_11ec_a27c_001a4af11eb4row4_col9\" class=\"data row4 col9\" >25</td>\n",
       "                        <td id=\"T_8d2f4b9a_9fe8_11ec_a27c_001a4af11eb4row4_col10\" class=\"data row4 col10\" >14.7</td>\n",
       "            </tr>\n",
       "            <tr>\n",
       "                        <th id=\"T_8d2f4b9a_9fe8_11ec_a27c_001a4af11eb4level0_row5\" class=\"row_heading level0 row5\" >HLT_CscCluster_Tight_v0</th>\n",
       "                        <td id=\"T_8d2f4b9a_9fe8_11ec_a27c_001a4af11eb4row5_col0\" class=\"data row5 col0\" >16.36</td>\n",
       "                        <td id=\"T_8d2f4b9a_9fe8_11ec_a27c_001a4af11eb4row5_col1\" class=\"data row5 col1\" >18.02</td>\n",
       "                        <td id=\"T_8d2f4b9a_9fe8_11ec_a27c_001a4af11eb4row5_col2\" class=\"data row5 col2\" >20.51</td>\n",
       "                        <td id=\"T_8d2f4b9a_9fe8_11ec_a27c_001a4af11eb4row5_col3\" class=\"data row5 col3\" >14.17</td>\n",
       "                        <td id=\"T_8d2f4b9a_9fe8_11ec_a27c_001a4af11eb4row5_col4\" class=\"data row5 col4\" >19.72</td>\n",
       "                        <td id=\"T_8d2f4b9a_9fe8_11ec_a27c_001a4af11eb4row5_col5\" class=\"data row5 col5\" >28.25</td>\n",
       "                        <td id=\"T_8d2f4b9a_9fe8_11ec_a27c_001a4af11eb4row5_col6\" class=\"data row5 col6\" >23.89</td>\n",
       "                        <td id=\"T_8d2f4b9a_9fe8_11ec_a27c_001a4af11eb4row5_col7\" class=\"data row5 col7\" >11.83</td>\n",
       "                        <td id=\"T_8d2f4b9a_9fe8_11ec_a27c_001a4af11eb4row5_col8\" class=\"data row5 col8\" >21.99</td>\n",
       "                        <td id=\"T_8d2f4b9a_9fe8_11ec_a27c_001a4af11eb4row5_col9\" class=\"data row5 col9\" >25</td>\n",
       "                        <td id=\"T_8d2f4b9a_9fe8_11ec_a27c_001a4af11eb4row5_col10\" class=\"data row5 col10\" >14.47</td>\n",
       "            </tr>\n",
       "            <tr>\n",
       "                        <th id=\"T_8d2f4b9a_9fe8_11ec_a27c_001a4af11eb4level0_row6\" class=\"row_heading level0 row6\" >HLT_L1CSCShower_DTCluster50_v0</th>\n",
       "                        <td id=\"T_8d2f4b9a_9fe8_11ec_a27c_001a4af11eb4row6_col0\" class=\"data row6 col0\" >0.85</td>\n",
       "                        <td id=\"T_8d2f4b9a_9fe8_11ec_a27c_001a4af11eb4row6_col1\" class=\"data row6 col1\" >1.49</td>\n",
       "                        <td id=\"T_8d2f4b9a_9fe8_11ec_a27c_001a4af11eb4row6_col2\" class=\"data row6 col2\" >1.94</td>\n",
       "                        <td id=\"T_8d2f4b9a_9fe8_11ec_a27c_001a4af11eb4row6_col3\" class=\"data row6 col3\" >1.27</td>\n",
       "                        <td id=\"T_8d2f4b9a_9fe8_11ec_a27c_001a4af11eb4row6_col4\" class=\"data row6 col4\" >1.37</td>\n",
       "                        <td id=\"T_8d2f4b9a_9fe8_11ec_a27c_001a4af11eb4row6_col5\" class=\"data row6 col5\" >1.85</td>\n",
       "                        <td id=\"T_8d2f4b9a_9fe8_11ec_a27c_001a4af11eb4row6_col6\" class=\"data row6 col6\" >0</td>\n",
       "                        <td id=\"T_8d2f4b9a_9fe8_11ec_a27c_001a4af11eb4row6_col7\" class=\"data row6 col7\" >0.97</td>\n",
       "                        <td id=\"T_8d2f4b9a_9fe8_11ec_a27c_001a4af11eb4row6_col8\" class=\"data row6 col8\" >0.59</td>\n",
       "                        <td id=\"T_8d2f4b9a_9fe8_11ec_a27c_001a4af11eb4row6_col9\" class=\"data row6 col9\" >1.02</td>\n",
       "                        <td id=\"T_8d2f4b9a_9fe8_11ec_a27c_001a4af11eb4row6_col10\" class=\"data row6 col10\" >2.58</td>\n",
       "            </tr>\n",
       "            <tr>\n",
       "                        <th id=\"T_8d2f4b9a_9fe8_11ec_a27c_001a4af11eb4level0_row7\" class=\"row_heading level0 row7\" >HLT_L1CSCShower_DTCluster75_v0</th>\n",
       "                        <td id=\"T_8d2f4b9a_9fe8_11ec_a27c_001a4af11eb4row7_col0\" class=\"data row7 col0\" >0.63</td>\n",
       "                        <td id=\"T_8d2f4b9a_9fe8_11ec_a27c_001a4af11eb4row7_col1\" class=\"data row7 col1\" >1.27</td>\n",
       "                        <td id=\"T_8d2f4b9a_9fe8_11ec_a27c_001a4af11eb4row7_col2\" class=\"data row7 col2\" >1.55</td>\n",
       "                        <td id=\"T_8d2f4b9a_9fe8_11ec_a27c_001a4af11eb4row7_col3\" class=\"data row7 col3\" >0.93</td>\n",
       "                        <td id=\"T_8d2f4b9a_9fe8_11ec_a27c_001a4af11eb4row7_col4\" class=\"data row7 col4\" >1.26</td>\n",
       "                        <td id=\"T_8d2f4b9a_9fe8_11ec_a27c_001a4af11eb4row7_col5\" class=\"data row7 col5\" >1.46</td>\n",
       "                        <td id=\"T_8d2f4b9a_9fe8_11ec_a27c_001a4af11eb4row7_col6\" class=\"data row7 col6\" >0</td>\n",
       "                        <td id=\"T_8d2f4b9a_9fe8_11ec_a27c_001a4af11eb4row7_col7\" class=\"data row7 col7\" >0.87</td>\n",
       "                        <td id=\"T_8d2f4b9a_9fe8_11ec_a27c_001a4af11eb4row7_col8\" class=\"data row7 col8\" >0.59</td>\n",
       "                        <td id=\"T_8d2f4b9a_9fe8_11ec_a27c_001a4af11eb4row7_col9\" class=\"data row7 col9\" >0.51</td>\n",
       "                        <td id=\"T_8d2f4b9a_9fe8_11ec_a27c_001a4af11eb4row7_col10\" class=\"data row7 col10\" >2.31</td>\n",
       "            </tr>\n",
       "    </tbody></table>"
      ],
      "text/plain": [
       "<pandas.io.formats.style.Styler at 0x7f3ccbccec10>"
      ]
     },
     "execution_count": 16,
     "metadata": {},
     "output_type": "execute_result"
    }
   ],
   "source": [
    "data = []\n",
    "m = []\n",
    "mh = []\n",
    "ct = []\n",
    "for k, v in table.items():\n",
    "    mh.append( int(k.split(\"_\")[0].split('-')[1]))\n",
    "    m.append(int(k.split(\"_\")[1].split(\"-\")[1]))    \n",
    "    ct.append(k.split(\"_\")[2].split(\"-\")[1])        \n",
    "    data.append(v)\n",
    "    \n",
    "mi = pd.MultiIndex.from_arrays([mh,m,ct], names=['Higgs Mass', 'LLP mass', 'ctau'])\n",
    "df = pd.DataFrame(data,index=mi,columns=cols).transpose()\n",
    "pd.options.display.multi_sparse=False\n",
    "df = df.sort_index(axis=1,level=[0,1,2])\n",
    "df = df.style.set_properties(**{'text-align': 'right'})\n",
    "df"
   ]
  },
  {
   "cell_type": "code",
   "execution_count": 151,
   "metadata": {},
   "outputs": [],
   "source": []
  },
  {
   "cell_type": "markdown",
   "metadata": {},
   "source": [
    "# Rate & eff"
   ]
  },
  {
   "cell_type": "code",
   "execution_count": 34,
   "metadata": {},
   "outputs": [],
   "source": [
    "events=getLZDF(\"../signal_7.root\")"
   ]
  },
  {
   "cell_type": "code",
   "execution_count": 48,
   "metadata": {},
   "outputs": [
    {
     "data": {
      "text/plain": [
       "0.9985590778097982"
      ]
     },
     "execution_count": 48,
     "metadata": {},
     "output_type": "execute_result"
    }
   ],
   "source": [
    "ak.sum((events.passL1==1)&(ak.any(events.gLLP_csc,axis=1)))/ak.sum(events.passL1==1)"
   ]
  },
  {
   "cell_type": "code",
   "execution_count": null,
   "metadata": {},
   "outputs": [],
   "source": [
    "def cutFlow(events,nHits=50):\n",
    "    cls = events.cls\n",
    "    cls = cls[cls.size>=nHits]\n",
    "    nCls = (ak.num(cls)>=1)\n",
    "    eta = (abs(cls.eta)<1.9)\n",
    "#     ME11_12_veto = (cls.nME11+cls.nME12)==0\n",
    "    ME11_12_veto = (cls.nME11_12)==0    \n",
    "    time = ((cls.time<12.5) & (cls.time>-5) )\n",
    "    \n",
    "    data = []\n",
    "    data.append(ak.sum(nCls))\n",
    "    data.append(ak.sum(ak.num(cls[(time)])>=1))    \n",
    "    data.append(ak.sum(ak.num(cls[(time)&(eta)])>=1))        \n",
    "    data.append(ak.sum(ak.num(cls[(eta)&(time)&(ME11_12_veto)])>=1))\n",
    "    for size in [100,150,170,200,225]:\n",
    "        data.append(ak.sum(ak.sum(cls[(eta)&(time)&(ME11_12_veto)].size>=size,axis=1)>=1))\n",
    "    return np.array(data)"
   ]
  },
  {
   "cell_type": "code",
   "execution_count": 93,
   "metadata": {},
   "outputs": [
    {
     "ename": "TypeError",
     "evalue": "2645 cannot be converted into an Awkward Array\n\n(https://github.com/scikit-hep/awkward-1.0/blob/1.2.0/src/awkward/operations/convert.py#L1884)",
     "output_type": "error",
     "traceback": [
      "\u001b[0;31m---------------------------------------------------------------------------\u001b[0m",
      "\u001b[0;31mTypeError\u001b[0m                                 Traceback (most recent call last)",
      "\u001b[0;32m<ipython-input-93-ac4a51a5e3c7>\u001b[0m in \u001b[0;36m<module>\u001b[0;34m\u001b[0m\n\u001b[0;32m----> 1\u001b[0;31m \u001b[0mdataOld\u001b[0m\u001b[0;34m[\u001b[0m\u001b[0mak\u001b[0m\u001b[0;34m.\u001b[0m\u001b[0mones_like\u001b[0m\u001b[0;34m(\u001b[0m\u001b[0mlen\u001b[0m\u001b[0;34m(\u001b[0m\u001b[0mdataOld\u001b[0m\u001b[0;34m)\u001b[0m\u001b[0;34m)\u001b[0m\u001b[0;34m]\u001b[0m\u001b[0;34m\u001b[0m\u001b[0;34m\u001b[0m\u001b[0m\n\u001b[0m",
      "\u001b[0;32m~/work/LLP/CMSSW_10_6_20/src/llp_analyzer/coffeaenv/lib/python3.7/site-packages/awkward/operations/structure.py\u001b[0m in \u001b[0;36mones_like\u001b[0;34m(array, highlevel, behavior)\u001b[0m\n\u001b[1;32m   1085\u001b[0m     are immutable.)\n\u001b[1;32m   1086\u001b[0m     \"\"\"\n\u001b[0;32m-> 1087\u001b[0;31m     \u001b[0;32mreturn\u001b[0m \u001b[0mfull_like\u001b[0m\u001b[0;34m(\u001b[0m\u001b[0marray\u001b[0m\u001b[0;34m,\u001b[0m \u001b[0;36m1\u001b[0m\u001b[0;34m,\u001b[0m \u001b[0mhighlevel\u001b[0m\u001b[0;34m=\u001b[0m\u001b[0mhighlevel\u001b[0m\u001b[0;34m,\u001b[0m \u001b[0mbehavior\u001b[0m\u001b[0;34m=\u001b[0m\u001b[0mbehavior\u001b[0m\u001b[0;34m)\u001b[0m\u001b[0;34m\u001b[0m\u001b[0;34m\u001b[0m\u001b[0m\n\u001b[0m\u001b[1;32m   1088\u001b[0m \u001b[0;34m\u001b[0m\u001b[0m\n\u001b[1;32m   1089\u001b[0m \u001b[0;34m\u001b[0m\u001b[0m\n",
      "\u001b[0;32m~/work/LLP/CMSSW_10_6_20/src/llp_analyzer/coffeaenv/lib/python3.7/site-packages/awkward/operations/structure.py\u001b[0m in \u001b[0;36mfull_like\u001b[0;34m(array, fill_value, highlevel, behavior)\u001b[0m\n\u001b[1;32m   1152\u001b[0m     \"\"\"\n\u001b[1;32m   1153\u001b[0m     layout = ak.operations.convert.to_layout(\n\u001b[0;32m-> 1154\u001b[0;31m         \u001b[0marray\u001b[0m\u001b[0;34m,\u001b[0m \u001b[0mallow_record\u001b[0m\u001b[0;34m=\u001b[0m\u001b[0;32mTrue\u001b[0m\u001b[0;34m,\u001b[0m \u001b[0mallow_other\u001b[0m\u001b[0;34m=\u001b[0m\u001b[0;32mFalse\u001b[0m\u001b[0;34m\u001b[0m\u001b[0;34m\u001b[0m\u001b[0m\n\u001b[0m\u001b[1;32m   1155\u001b[0m     )\n\u001b[1;32m   1156\u001b[0m \u001b[0;34m\u001b[0m\u001b[0m\n",
      "\u001b[0;32m~/work/LLP/CMSSW_10_6_20/src/llp_analyzer/coffeaenv/lib/python3.7/site-packages/awkward/operations/convert.py\u001b[0m in \u001b[0;36mto_layout\u001b[0;34m(array, allow_record, allow_other, numpytype)\u001b[0m\n\u001b[1;32m   1882\u001b[0m         raise TypeError(\n\u001b[1;32m   1883\u001b[0m             \u001b[0;34m\"{0} cannot be converted into an Awkward Array\"\u001b[0m\u001b[0;34m.\u001b[0m\u001b[0mformat\u001b[0m\u001b[0;34m(\u001b[0m\u001b[0marray\u001b[0m\u001b[0;34m)\u001b[0m\u001b[0;34m\u001b[0m\u001b[0;34m\u001b[0m\u001b[0m\n\u001b[0;32m-> 1884\u001b[0;31m             \u001b[0;34m+\u001b[0m \u001b[0mak\u001b[0m\u001b[0;34m.\u001b[0m\u001b[0m_util\u001b[0m\u001b[0;34m.\u001b[0m\u001b[0mexception_suffix\u001b[0m\u001b[0;34m(\u001b[0m\u001b[0m__file__\u001b[0m\u001b[0;34m)\u001b[0m\u001b[0;34m\u001b[0m\u001b[0;34m\u001b[0m\u001b[0m\n\u001b[0m\u001b[1;32m   1885\u001b[0m         )\n\u001b[1;32m   1886\u001b[0m \u001b[0;34m\u001b[0m\u001b[0m\n",
      "\u001b[0;31mTypeError\u001b[0m: 2645 cannot be converted into an Awkward Array\n\n(https://github.com/scikit-hep/awkward-1.0/blob/1.2.0/src/awkward/operations/convert.py#L1884)"
     ]
    }
   ],
   "source": []
  },
  {
   "cell_type": "code",
   "execution_count": 95,
   "metadata": {},
   "outputs": [
    {
     "name": "stdout",
     "output_type": "stream",
     "text": [
      "True\n"
     ]
    }
   ],
   "source": [
    "if isGolden:\n",
    "    print(True)"
   ]
  },
  {
   "cell_type": "code",
   "execution_count": 98,
   "metadata": {},
   "outputs": [],
   "source": []
  },
  {
   "cell_type": "code",
   "execution_count": 330,
   "metadata": {},
   "outputs": [
    {
     "name": "stdout",
     "output_type": "stream",
     "text": [
      "(0.5702449567723343, <Array [[{eta: -1.42, ... avgStation10: 3.24}]] type='1583 * var * {\"eta\": float...'>)\n",
      "(0.5223342939481268, <Array [[{eta: -1.42, ... avgStation10: 3.24}]] type='1450 * var * {\"eta\": float...'>)\n",
      "(0.4845100864553314, <Array [[{eta: -1.42, ... avgStation10: 3.24}]] type='1345 * var * {\"eta\": float...'>)\n"
     ]
    }
   ],
   "source": [
    "print(cutFlow_CSCpaths(events,[100,200,500,500]))\n",
    "print(cutFlow_CSCpaths(events,[100,300,500,800]))\n",
    "\n",
    "print(cutFlow_CSCpaths(events,[100,500,500,800]))"
   ]
  },
  {
   "cell_type": "code",
   "execution_count": 84,
   "metadata": {},
   "outputs": [
    {
     "data": {
      "text/plain": [
       "<Array [{runNum: 320570, lumiNum: 381, ... ] type='2645 * {\"runNum\": uint32, \"lu...'>"
      ]
     },
     "execution_count": 84,
     "metadata": {},
     "output_type": "execute_result"
    }
   ],
   "source": [
    "dataOld"
   ]
  },
  {
   "cell_type": "code",
   "execution_count": 79,
   "metadata": {},
   "outputs": [
    {
     "ename": "NameError",
     "evalue": "name 'events' is not defined",
     "output_type": "error",
     "traceback": [
      "\u001b[0;31m---------------------------------------------------------------------------\u001b[0m",
      "\u001b[0;31mNameError\u001b[0m                                 Traceback (most recent call last)",
      "\u001b[0;32m<ipython-input-79-02bfb3f2245a>\u001b[0m in \u001b[0;36m<module>\u001b[0;34m\u001b[0m\n\u001b[0;32m----> 1\u001b[0;31m \u001b[0meff\u001b[0m\u001b[0;34m,\u001b[0m\u001b[0mcls\u001b[0m\u001b[0;34m=\u001b[0m\u001b[0mcutFlow_CSCpaths\u001b[0m\u001b[0;34m(\u001b[0m\u001b[0mevents\u001b[0m\u001b[0;34m,\u001b[0m\u001b[0;34m[\u001b[0m\u001b[0;36m100\u001b[0m\u001b[0;34m,\u001b[0m\u001b[0;36m300\u001b[0m\u001b[0;34m,\u001b[0m\u001b[0;36m500\u001b[0m\u001b[0;34m,\u001b[0m\u001b[0;36m800\u001b[0m\u001b[0;34m]\u001b[0m\u001b[0;34m)\u001b[0m\u001b[0;34m\u001b[0m\u001b[0;34m\u001b[0m\u001b[0m\n\u001b[0m",
      "\u001b[0;31mNameError\u001b[0m: name 'events' is not defined"
     ]
    }
   ],
   "source": [
    "eff,cls=cutFlow_CSCpaths(events,[100,300,500,800])"
   ]
  },
  {
   "cell_type": "code",
   "execution_count": 104,
   "metadata": {},
   "outputs": [
    {
     "name": "stdout",
     "output_type": "stream",
     "text": [
      "4.040660736975858\n",
      "2.020330368487929\n",
      "1.346886912325286\n"
     ]
    }
   ],
   "source": [
    "### Any cluster\n",
    "\n",
    "norm = 530/sum(isGolden)\n",
    "# norm=1\n",
    "eff,cls = cutFlow_CSCpaths(dataOld,[100,200,500,500],True,False,isGolden)\n",
    "print(len(cls[~ak.is_none(cls)])*norm)\n",
    "\n",
    "eff,cls = cutFlow_CSCpaths(dataOld,[100,300,500,800],True,False,isGolden)\n",
    "print(len(cls[~ak.is_none(cls)])*norm)\n",
    "\n",
    "eff,cls = cutFlow_CSCpaths(dataOld,[100,500,500,800],True,False,isGolden)\n",
    "print(len(cls[~ak.is_none(cls)])*norm)"
   ]
  },
  {
   "cell_type": "code",
   "execution_count": 103,
   "metadata": {},
   "outputs": [
    {
     "name": "stdout",
     "output_type": "stream",
     "text": [
      "4.007561436672968\n",
      "2.2041587901701325\n",
      "1.4026465028355388\n"
     ]
    }
   ],
   "source": []
  },
  {
   "cell_type": "code",
   "execution_count": 47,
   "metadata": {},
   "outputs": [
    {
     "data": {
      "text/plain": [
       "'MH-125_MFF-50_CTau-3000mm'"
      ]
     },
     "execution_count": 47,
     "metadata": {},
     "output_type": "execute_result"
    }
   ],
   "source": [
    "to_name(signalMap[\"signal_7\"])"
   ]
  },
  {
   "cell_type": "code",
   "execution_count": 336,
   "metadata": {},
   "outputs": [],
   "source": [
    "eff,cls = cutFlow_DTpaths(dataOld,[0],True,False,isGolden)\n"
   ]
  },
  {
   "cell_type": "code",
   "execution_count": 371,
   "metadata": {},
   "outputs": [],
   "source": [
    "cls = dataOld.cls_dt[isGolden]"
   ]
  },
  {
   "cell_type": "code",
   "execution_count": 372,
   "metadata": {},
   "outputs": [
    {
     "data": {
      "text/plain": [
       "<Array [[], [], ... []] type='2361 * var * {\"eta\": float32, \"phi\": float32, \"x\":...'>"
      ]
     },
     "execution_count": 372,
     "metadata": {},
     "output_type": "execute_result"
    }
   ],
   "source": [
    "cls"
   ]
  },
  {
   "cell_type": "code",
   "execution_count": 373,
   "metadata": {},
   "outputs": [],
   "source": [
    "cls = cls[ak.num(cls)>0]"
   ]
  },
  {
   "cell_type": "code",
   "execution_count": 376,
   "metadata": {},
   "outputs": [
    {
     "data": {
      "text/plain": [
       "2"
      ]
     },
     "execution_count": 376,
     "metadata": {},
     "output_type": "execute_result"
    }
   ],
   "source": [
    "ak.sum(ak.any((cls.size-cls.nMB1)>100,axis=1))"
   ]
  },
  {
   "cell_type": "code",
   "execution_count": 378,
   "metadata": {},
   "outputs": [
    {
     "data": {
      "text/plain": [
       "0.22448115205421432"
      ]
     },
     "execution_count": 378,
     "metadata": {},
     "output_type": "execute_result"
    }
   ],
   "source": [
    "1/sum(isGolden)*530"
   ]
  },
  {
   "cell_type": "code",
   "execution_count": null,
   "metadata": {},
   "outputs": [],
   "source": []
  },
  {
   "cell_type": "code",
   "execution_count": 55,
   "metadata": {},
   "outputs": [
    {
     "data": {
      "text/plain": [
       "(exptext: Custom Text(0.0, 1, 'CMS'),\n",
       " expsuffix: Custom Text(0.0, 1.005, 'Simulation'))"
      ]
     },
     "execution_count": 55,
     "metadata": {},
     "output_type": "execute_result"
    },
    {
     "data": {
      "image/png": "[encoded data removed]",
      "text/plain": [
       "<Figure size 576x432 with 2 Axes>"
      ]
     },
     "metadata": {
      "needs_background": "light"
     },
     "output_type": "display_data"
    }
   ],
   "source": [
    "fig, ax = plt.subplots(1,1,figsize=(8,6))\n",
    "hep.set_style(hep.style.CMS)\n",
    "h= hist.Hist(\"Events\",\n",
    "                      hist.Cat(\"sample\",\"sample\"),                      \n",
    "                      hist.Bin(\"size\", \"Cluster size\", 40, 0, 1000),\n",
    "                      hist.Bin(\"eta\", \"abs(eta)\", 40, 0, 5))\n",
    "\n",
    "\n",
    "h.fill(sample=\"signal7\",size=ak.flatten(events.cls.size),\n",
    "                       eta=ak.flatten(abs(events.cls.eta)))\n",
    "hist.plot2d(h.project(\"size\",\"eta\"),xaxis=\"size\",density=True,ax=ax)\n",
    "# ax.legend(title=\"CA(dR=0.4)\")\n",
    "# ax.text(6,0.2,\"H->SS->4tau\")\n",
    "hep.cms.label(ax=ax)\n",
    "# ax.set_ylabel(\"Density\")"
   ]
  },
  {
   "cell_type": "markdown",
   "metadata": {},
   "source": [
    "## CSC Efficiency"
   ]
  },
  {
   "cell_type": "code",
   "execution_count": null,
   "metadata": {},
   "outputs": [],
   "source": []
  },
  {
   "cell_type": "code",
   "execution_count": null,
   "metadata": {},
   "outputs": [],
   "source": []
  },
  {
   "cell_type": "code",
   "execution_count": 32,
   "metadata": {},
   "outputs": [
    {
     "ename": "NameError",
     "evalue": "name 'ca4' is not defined",
     "output_type": "error",
     "traceback": [
      "\u001b[0;31m---------------------------------------------------------------------------\u001b[0m",
      "\u001b[0;31mNameError\u001b[0m                                 Traceback (most recent call last)",
      "\u001b[0;32m<ipython-input-32-de66589f98e6>\u001b[0m in \u001b[0;36m<module>\u001b[0;34m\u001b[0m\n\u001b[1;32m      6\u001b[0m        \"ClusterSize>=225\"]\n\u001b[1;32m      7\u001b[0m \u001b[0;34m\u001b[0m\u001b[0m\n\u001b[0;32m----> 8\u001b[0;31m \u001b[0mca4_csc\u001b[0m \u001b[0;34m=\u001b[0m \u001b[0mca4\u001b[0m\u001b[0;34m[\u001b[0m\u001b[0mak\u001b[0m\u001b[0;34m.\u001b[0m\u001b[0many\u001b[0m\u001b[0;34m(\u001b[0m\u001b[0mca4\u001b[0m\u001b[0;34m.\u001b[0m\u001b[0mgLLP_csc\u001b[0m\u001b[0;34m,\u001b[0m\u001b[0maxis\u001b[0m\u001b[0;34m=\u001b[0m\u001b[0;36m1\u001b[0m\u001b[0;34m)\u001b[0m\u001b[0;34m]\u001b[0m\u001b[0;34m\u001b[0m\u001b[0;34m\u001b[0m\u001b[0m\n\u001b[0m\u001b[1;32m      9\u001b[0m \u001b[0mca4_csc\u001b[0m\u001b[0;34m.\u001b[0m\u001b[0mcls\u001b[0m \u001b[0;34m=\u001b[0m \u001b[0mca4\u001b[0m\u001b[0;34m.\u001b[0m\u001b[0mcls\u001b[0m\u001b[0;34m[\u001b[0m\u001b[0mak\u001b[0m\u001b[0;34m.\u001b[0m\u001b[0many\u001b[0m\u001b[0;34m(\u001b[0m\u001b[0mca4\u001b[0m\u001b[0;34m.\u001b[0m\u001b[0mgLLP_csc\u001b[0m\u001b[0;34m,\u001b[0m\u001b[0maxis\u001b[0m\u001b[0;34m=\u001b[0m\u001b[0;36m1\u001b[0m\u001b[0;34m)\u001b[0m\u001b[0;34m]\u001b[0m\u001b[0;34m\u001b[0m\u001b[0;34m\u001b[0m\u001b[0m\n\u001b[1;32m     10\u001b[0m \u001b[0mca3_csc\u001b[0m \u001b[0;34m=\u001b[0m \u001b[0mca3\u001b[0m\u001b[0;34m[\u001b[0m\u001b[0mak\u001b[0m\u001b[0;34m.\u001b[0m\u001b[0many\u001b[0m\u001b[0;34m(\u001b[0m\u001b[0mca3\u001b[0m\u001b[0;34m.\u001b[0m\u001b[0mgLLP_csc\u001b[0m\u001b[0;34m,\u001b[0m\u001b[0maxis\u001b[0m\u001b[0;34m=\u001b[0m\u001b[0;36m1\u001b[0m\u001b[0;34m)\u001b[0m\u001b[0;34m]\u001b[0m\u001b[0;34m\u001b[0m\u001b[0;34m\u001b[0m\u001b[0m\n",
      "\u001b[0;31mNameError\u001b[0m: name 'ca4' is not defined"
     ]
    }
   ],
   "source": [
    "cols = [\"nCls>=1\",\"In-time(-5<t<12ns)\",\"abs(eta)<1.9\",\"ME11/12 veto\",\n",
    "        \"ClusterSize>=100\",\n",
    "       \"ClusterSize>=150\",\n",
    "       \"ClusterSize>=170\",\n",
    "       \"ClusterSize>=200\",\n",
    "       \"ClusterSize>=225\"]\n",
    "\n",
    "ca4_csc = ca4[ak.any(ca4.gLLP_csc,axis=1)]\n",
    "ca4_csc.cls = ca4.cls[ak.any(ca4.gLLP_csc,axis=1)]\n",
    "ca3_csc = ca3[ak.any(ca3.gLLP_csc,axis=1)]\n",
    "ca3_csc.cls = ca3.cls[ak.any(ca3.gLLP_csc,axis=1)]\n",
    "ca2_csc = ca2[ak.any(ca2.gLLP_csc,axis=1)]\n",
    "ca2_csc.cls = ca2.cls[ak.any(ca2.gLLP_csc,axis=1)]\n",
    "\n",
    "\n",
    "norm = 100./len(ca4_csc)\n",
    "# norm = 1.\n",
    "table ={}\n",
    "table[\"dR=0.2,nHit>50\"] =[ \"{:.1f} %\".format(i) for i in np.round(cutFlow(ca2_csc)*norm,2)]\n",
    "table[\"dR=0.3,nHit>50\"] =[ \"{:.1f} %\".format(i) for i in np.round(cutFlow(ca3_csc)*norm,2)]\n",
    "table[\"dR=0.4,nHit>50\"] =[ \"{:.1f} %\".format(i) for i in np.round(cutFlow(ca4_csc)*norm,2)]\n",
    "table[\"dR=0.4,nHit>100\"]=[ \"{:.1f} %\".format(i) for i in np.round(cutFlow(ca4_csc,100)*norm,2)]\n",
    "\n",
    "table[\"factor increase w.r.t. MET200\"]=[\"-\",\"-\",\"-\",\"-\"]+\\\n",
    "                                    [\"{:.1f}x\".format(i) for i in np.round(cutFlow(ca4,100)[4:]*norm/0.32,2)]\n",
    "\n",
    "df = pd.DataFrame.from_dict(table,orient=\"index\",columns=cols).transpose()\n",
    "df"
   ]
  },
  {
   "cell_type": "markdown",
   "metadata": {},
   "source": [
    "## DT Efficiency"
   ]
  },
  {
   "cell_type": "code",
   "execution_count": 127,
   "metadata": {},
   "outputs": [
    {
     "data": {
      "text/plain": [
       "1467"
      ]
     },
     "execution_count": 127,
     "metadata": {},
     "output_type": "execute_result"
    }
   ],
   "source": [
    "ak.sum(ak.any(ca4_dt.gLLP_dt,axis=1))"
   ]
  },
  {
   "cell_type": "code",
   "execution_count": 128,
   "metadata": {},
   "outputs": [
    {
     "data": {
      "text/html": [
       "<div>\n",
       "<style scoped>\n",
       "    .dataframe tbody tr th:only-of-type {\n",
       "        vertical-align: middle;\n",
       "    }\n",
       "\n",
       "    .dataframe tbody tr th {\n",
       "        vertical-align: top;\n",
       "    }\n",
       "\n",
       "    .dataframe thead th {\n",
       "        text-align: right;\n",
       "    }\n",
       "</style>\n",
       "<table border=\"1\" class=\"dataframe\">\n",
       "  <thead>\n",
       "    <tr style=\"text-align: right;\">\n",
       "      <th></th>\n",
       "      <th>dR=0.2,nHit&gt;50</th>\n",
       "      <th>dR=0.3,nHit&gt;50</th>\n",
       "      <th>dR=0.4,nHit&gt;50</th>\n",
       "      <th>dR=0.4,nHit&gt;100</th>\n",
       "    </tr>\n",
       "  </thead>\n",
       "  <tbody>\n",
       "    <tr>\n",
       "      <th>nCls&gt;=1</th>\n",
       "      <td>35.1 %</td>\n",
       "      <td>39.9 %</td>\n",
       "      <td>43.1 %</td>\n",
       "      <td>19.9 %</td>\n",
       "    </tr>\n",
       "    <tr>\n",
       "      <th>MB1 veto</th>\n",
       "      <td>21.9 %</td>\n",
       "      <td>21.6 %</td>\n",
       "      <td>21.7 %</td>\n",
       "      <td>9.9 %</td>\n",
       "    </tr>\n",
       "    <tr>\n",
       "      <th>ClusterSize&gt;=100</th>\n",
       "      <td>9.6 %</td>\n",
       "      <td>9.7 %</td>\n",
       "      <td>9.9 %</td>\n",
       "      <td>9.9 %</td>\n",
       "    </tr>\n",
       "    <tr>\n",
       "      <th>ClusterSize&gt;=150</th>\n",
       "      <td>3.6 %</td>\n",
       "      <td>4.7 %</td>\n",
       "      <td>4.5 %</td>\n",
       "      <td>4.5 %</td>\n",
       "    </tr>\n",
       "    <tr>\n",
       "      <th>ClusterSize&gt;=170</th>\n",
       "      <td>2.3 %</td>\n",
       "      <td>3.1 %</td>\n",
       "      <td>3.0 %</td>\n",
       "      <td>3.0 %</td>\n",
       "    </tr>\n",
       "    <tr>\n",
       "      <th>ClusterSize&gt;=200</th>\n",
       "      <td>1.0 %</td>\n",
       "      <td>1.4 %</td>\n",
       "      <td>1.2 %</td>\n",
       "      <td>1.2 %</td>\n",
       "    </tr>\n",
       "    <tr>\n",
       "      <th>ClusterSize&gt;=225</th>\n",
       "      <td>0.6 %</td>\n",
       "      <td>0.6 %</td>\n",
       "      <td>0.4 %</td>\n",
       "      <td>0.4 %</td>\n",
       "    </tr>\n",
       "  </tbody>\n",
       "</table>\n",
       "</div>"
      ],
      "text/plain": [
       "                 dR=0.2,nHit>50 dR=0.3,nHit>50 dR=0.4,nHit>50 dR=0.4,nHit>100\n",
       "nCls>=1                  35.1 %         39.9 %         43.1 %          19.9 %\n",
       "MB1 veto                 21.9 %         21.6 %         21.7 %           9.9 %\n",
       "ClusterSize>=100          9.6 %          9.7 %          9.9 %           9.9 %\n",
       "ClusterSize>=150          3.6 %          4.7 %          4.5 %           4.5 %\n",
       "ClusterSize>=170          2.3 %          3.1 %          3.0 %           3.0 %\n",
       "ClusterSize>=200          1.0 %          1.4 %          1.2 %           1.2 %\n",
       "ClusterSize>=225          0.6 %          0.6 %          0.4 %           0.4 %"
      ]
     },
     "execution_count": 128,
     "metadata": {},
     "output_type": "execute_result"
    }
   ],
   "source": [
    "cols = [\"nCls>=1\",\"MB1 veto\",\n",
    "        \"ClusterSize>=100\",\n",
    "       \"ClusterSize>=150\",\n",
    "       \"ClusterSize>=170\",\n",
    "       \"ClusterSize>=200\",\n",
    "       \"ClusterSize>=225\"]\n",
    "\n",
    "ca4_dt = ca4[ak.any(ca4.gLLP_dt,axis=1)]\n",
    "ca4_dt.cls_dt = ca4.cls_dt[ak.any(ca4.gLLP_dt,axis=1)]\n",
    "ca3_dt = ca3[ak.any(ca3.gLLP_dt,axis=1)]\n",
    "ca3_dt.cls_dt = ca3.cls_dt[ak.any(ca3.gLLP_dt,axis=1)]\n",
    "ca2_dt = ca2[ak.any(ca2.gLLP_dt,axis=1)]\n",
    "ca2_dt.cls_dt = ca2.cls_dt[ak.any(ca2.gLLP_dt,axis=1)]\n",
    "\n",
    "norm = 100./len(ca4_dt)\n",
    "# norm = 1.\n",
    "table ={}\n",
    "table[\"dR=0.2,nHit>50\"] =[ \"{:.1f} %\".format(i) for i in np.round(cutFlowDT(ca2_dt)*norm,2)]\n",
    "table[\"dR=0.3,nHit>50\"] =[ \"{:.1f} %\".format(i) for i in np.round(cutFlowDT(ca3_dt)*norm,2)]\n",
    "table[\"dR=0.4,nHit>50\"] =[ \"{:.1f} %\".format(i) for i in np.round(cutFlowDT(ca4_dt)*norm,2)]\n",
    "table[\"dR=0.4,nHit>100\"]=[ \"{:.1f} %\".format(i) for i in np.round(cutFlowDT(ca4_dt,100)*norm,2)]\n",
    "\n",
    "\n",
    "df = pd.DataFrame.from_dict(table,orient=\"index\",columns=cols).transpose()\n",
    "df"
   ]
  },
  {
   "cell_type": "code",
   "execution_count": 32,
   "metadata": {},
   "outputs": [],
   "source": [
    "cls = ca4_data.cls"
   ]
  },
  {
   "cell_type": "code",
   "execution_count": 110,
   "metadata": {},
   "outputs": [
    {
     "data": {
      "text/plain": [
       "142"
      ]
     },
     "execution_count": 110,
     "metadata": {},
     "output_type": "execute_result"
    }
   ],
   "source": [
    "ak.sum(ak.sum(cls[(eta)& (time) &(ME11_12_veto)].size>50,axis=1)>=1)"
   ]
  },
  {
   "cell_type": "code",
   "execution_count": 37,
   "metadata": {},
   "outputs": [
    {
     "data": {
      "text/plain": [
       "<Array [0, 3, 5, 6, 0, 5, ... 3, 5, 8, 11, 0] type='2645 * int64'>"
      ]
     },
     "execution_count": 37,
     "metadata": {},
     "output_type": "execute_result"
    }
   ],
   "source": [
    "ak.num(cls)"
   ]
  },
  {
   "cell_type": "code",
   "execution_count": 64,
   "metadata": {},
   "outputs": [
    {
     "data": {
      "text/plain": [
       "<AxesSubplot:xlabel='nClusters', ylabel='Events'>"
      ]
     },
     "execution_count": 64,
     "metadata": {},
     "output_type": "execute_result"
    },
    {
     "data": {
      "image/png": "[encoded data removed]",
      "text/plain": [
       "<Figure size 432x288 with 1 Axes>"
      ]
     },
     "metadata": {
      "needs_background": "light"
     },
     "output_type": "display_data"
    }
   ],
   "source": [
    "h =hist.Hist(\"Events\",hist.Bin(\"nClusters\", \"nClusters\", 10, 0, 1000))\n",
    "h.fill(nClusters = ak.flatten(cls[(eta)& (time) &(ME11_12_veto)].size))\n",
    "# h.fill(nClusters = ak.num(cls[(eta)& (time) &(ME11_12_veto)]))\n",
    "hist.plot1d(h)"
   ]
  },
  {
   "cell_type": "code",
   "execution_count": 6,
   "metadata": {},
   "outputs": [],
   "source": [
    "def match(llp,cls,dR_cut=0.4):\n",
    "    llp_cls = ak.cartesian({\"cls\": cls,\"llp\":llp}, nested=True, axis=1)                \n",
    "    dR_llp_cls = llp_cls.cls.delta_r(llp_cls.llp)\n",
    "    dR_matched_llp_cls= ak.values_astype(ak.any(dR_llp_cls<dR_cut,axis=2),np.int)   \n",
    "    return dR_matched_llp_cls"
   ]
  },
  {
   "cell_type": "code",
   "execution_count": 17,
   "metadata": {},
   "outputs": [
    {
     "data": {
      "text/plain": [
       "<PtEtaPhiMLorentzVectorArray [[], [{pt: 1, ... wireTime: 2.84}], []] type='1478 ...'>"
      ]
     },
     "execution_count": 17,
     "metadata": {},
     "output_type": "execute_result"
    }
   ],
   "source": [
    "ca4.cls[matched==0]"
   ]
  },
  {
   "cell_type": "code",
   "execution_count": 66,
   "metadata": {},
   "outputs": [
    {
     "data": {
      "text/plain": [
       "nan"
      ]
     },
     "execution_count": 66,
     "metadata": {},
     "output_type": "execute_result"
    }
   ],
   "source": [
    "ak.max(ca4.cls.time)"
   ]
  },
  {
   "cell_type": "code",
   "execution_count": 12,
   "metadata": {},
   "outputs": [],
   "source": [
    "def plotCls(d=[{\"cls\":\"cls\",\"label\":\"data\"}],version=\"new\",density=False):\n",
    "    \n",
    "    fig, axs = plt.subplots(4,3,figsize=(20,12))\n",
    "#     hep.set_style(hep.style.CMS)\n",
    "    axs = axs.flatten()\n",
    "    density = density\n",
    "    h1= hist.Hist(\"Events\",hist.Cat(\"sample\",\"sample\"),hist.Bin(\"nClusters\", \"nClusters\", 10, 0, 10))\n",
    "    h2= hist.Hist(\"Events\",hist.Cat(\"sample\",\"sample\"),hist.Bin(\"eta\", \"eta\", 40, -5, 5))    \n",
    "    h3= hist.Hist(\"Events\",hist.Cat(\"sample\",\"sample\"),hist.Bin(\"phi\", \"phi\", 40, -np.pi, np.pi))        \n",
    "    h4= hist.Hist(\"Events\",hist.Cat(\"sample\",\"sample\"),hist.Bin(\"size\", \"size\", 100, 0, 1000))        \n",
    "    h5= hist.Hist(\"Events\",hist.Cat(\"sample\",\"sample\"),hist.Bin(\"time\", 'ClusterTime[ns]',80, -80, 80))            \n",
    "    if version==\"DT\":\n",
    "        h6 = hist.Hist(\"Events\",hist.Cat(\"sample\",\"sample\"),hist.Bin(\"nMB1\", 'nMB1',40, 0, 40))\n",
    "        h12= hist.Hist(\"Events\",hist.Cat(\"sample\",\"sample\"),hist.Bin(\"nMB2\", \"nMB2\", 40, 0, 40))        \n",
    "    else:\n",
    "        h6 = hist.Hist(\"Events\",hist.Cat(\"sample\",\"sample\"),hist.Bin(\"nME11_12\", 'nME11_12',40, 0, 40))        \n",
    "        h12= hist.Hist(\"Events\",hist.Cat(\"sample\",\"sample\"),hist.Bin(\"timeSpread\", \"timeSpread[ns]\", 80, 0, 100))\n",
    "        \n",
    "    h7 = hist.Hist(\"Events\",hist.Cat(\"sample\",\"sample\"),hist.Bin(\"x\", \"x\", 100, -1000, 1000))        \n",
    "    h8 = hist.Hist(\"Events\",hist.Cat(\"sample\",\"sample\"),hist.Bin(\"y\", \"y\", 100, -1000, 1000))        \n",
    "    h9 = hist.Hist(\"Events\",hist.Cat(\"sample\",\"sample\"),hist.Bin(\"z\", \"z\", 100, -1000, 1000))            \n",
    "    h10= hist.Hist(\"Events\",hist.Cat(\"sample\",\"sample\"),hist.Bin(\"Nstation10\", \"Nstation10\", 8, 0, 8))    \n",
    "    h11= hist.Hist(\"Events\",hist.Cat(\"sample\",\"sample\"),hist.Bin(\"AvgStation10\", \"AvgStation10\", 40, 0, 8))    \n",
    "    \n",
    "    for sample in d:\n",
    "        cls = sample['cls']\n",
    "        label = sample['label']\n",
    "        h1.fill(sample=label,nClusters=ak.num(cls))\n",
    "        h2.fill(sample=label,eta = ak.flatten(cls.eta))\n",
    "        h3.fill(sample=label,phi = ak.flatten(cls.phi)) \n",
    "        h4.fill(sample=label,size = ak.flatten(cls.size))\n",
    "        h5.fill(sample=label,time = ak.flatten(cls.time)) \n",
    "        if version==\"DT\":\n",
    "            h6.fill (sample=label,nMB1 = ak.flatten(cls.nMB1))        \n",
    "            h12.fill(sample=label,nMB2 = ak.flatten(cls.nMB2))                \n",
    "        elif version==\"new\":\n",
    "            h6.fill (sample=label,nME11_12 = ak.flatten(cls.nME11_12))\n",
    "            h12.fill(sample=label,timeSpread = ak.flatten(cls.timeSpread))                \n",
    "        else:\n",
    "            h6.fill(sample=label,nME11_12 = ak.flatten(cls.nME11+cls.nME12))        \n",
    "\n",
    "        h7.fill( sample=label,x = ak.flatten(cls.x))    \n",
    "        h8.fill( sample=label,y = ak.flatten(cls.y))    \n",
    "        h9.fill( sample=label,z = ak.flatten(cls.z))        \n",
    "        h10.fill(sample=label,Nstation10 = ak.flatten(cls.nStation10))            \n",
    "        h11.fill(sample=label,AvgStation10 = ak.flatten(cls.avgStation10))                \n",
    "    \n",
    "    \n",
    "    hist.plot1d(h1,density=density,ax=axs[0])\n",
    "    hist.plot1d(h2,density=density,ax=axs[1])\n",
    "    hist.plot1d(h3,density=density,ax=axs[2])\n",
    "    hist.plot1d(h4,density=density,ax=axs[3])\n",
    "    hist.plot1d(h5,density=density,ax=axs[4])\n",
    "    hist.plot1d(h6,density=density,ax=axs[5])    \n",
    "    hist.plot1d(h7,density=density,ax=axs[6])    \n",
    "    hist.plot1d(h8,density=density,ax=axs[7])    \n",
    "    hist.plot1d(h9,density=density,ax=axs[8])    \n",
    "    hist.plot1d(h10,density=density,ax=axs[9])    \n",
    "    hist.plot1d(h11,density=density,ax=axs[10])    \n",
    "    hist.plot1d(h12,density=density,ax=axs[11])        \n",
    "    \n",
    "    if density:\n",
    "        axs[5].set_yscale(\"log\")\n",
    "        axs[5].set_ylim(1e-4,None)\n",
    "\n",
    "#     for ax in axs:\n",
    "#         ax.legend([label])\n",
    "    plt.tight_layout()\n",
    "    plt.show()\n",
    "    "
   ]
  },
  {
   "cell_type": "code",
   "execution_count": 17,
   "metadata": {},
   "outputs": [],
   "source": [
    "cls = ca4_data.cls\n",
    "nCls = (ak.num(cls)>=1)\n",
    "eta = (abs(cls.eta)<1.9)\n",
    "ME11_12_veto = (cls.nME11_12)==0\n",
    "time = ((cls.time<12.5) & (cls.time>-5) )\n",
    "sel =ak.sum(cls[(eta)&(time)&(ME11_12_veto)].size>=225,axis=1)>=1\n"
   ]
  },
  {
   "cell_type": "code",
   "execution_count": 20,
   "metadata": {},
   "outputs": [
    {
     "data": {
      "text/plain": [
       "<Array [[1], [1], [1], ... [1], [1, 2], [1]] type='10 * var * int32'>"
      ]
     },
     "execution_count": 20,
     "metadata": {},
     "output_type": "execute_result"
    }
   ],
   "source": [
    "cls[sel].nStation10"
   ]
  },
  {
   "cell_type": "code",
   "execution_count": 90,
   "metadata": {},
   "outputs": [
    {
     "data": {
      "text/plain": [
       "<zip at 0x7faa28060c30>"
      ]
     },
     "execution_count": 90,
     "metadata": {},
     "output_type": "execute_result"
    }
   ],
   "source": [
    "cls = ca4_data.cls\n",
    "cls = cls[cls.nME11_12==0]\n",
    "sel = ak.any(cls.nStation10==4,axis=1) \n",
    "zip(ca4_data.runNum[sel],ca4_data.lumiNum[sel],ca4_data.eventNum[sel])"
   ]
  },
  {
   "cell_type": "code",
   "execution_count": 75,
   "metadata": {},
   "outputs": [
    {
     "data": {
      "text/plain": [
       "-77.374535"
      ]
     },
     "execution_count": 75,
     "metadata": {},
     "output_type": "execute_result"
    }
   ],
   "source": [
    "ak.min(cls2.time)"
   ]
  },
  {
   "cell_type": "code",
   "execution_count": 116,
   "metadata": {},
   "outputs": [
    {
     "name": "stderr",
     "output_type": "stream",
     "text": [
      "/uscms/home/kkwok/work/LLP/CMSSW_10_6_20/src/llp_analyzer/coffeaenv/lib/python3.7/site-packages/coffea/hist/hist_tools.py:753: RuntimeWarning: Allocating a large (>10M bin) histogram!\n",
      "  warnings.warn(\"Allocating a large (>10M bin) histogram!\", RuntimeWarning)\n"
     ]
    },
    {
     "data": {
      "text/plain": [
       "(exptext: Custom Text(0.0, 1, 'CMS'),\n",
       " expsuffix: Custom Text(0.0, 1.005, 'Preliminary'))"
      ]
     },
     "execution_count": 116,
     "metadata": {},
     "output_type": "execute_result"
    },
    {
     "data": {
      "image/png": "[encoded data removed]",
      "text/plain": [
       "<Figure size 576x432 with 1 Axes>"
      ]
     },
     "metadata": {
      "needs_background": "light"
     },
     "output_type": "display_data"
    }
   ],
   "source": [
    "fig, ax = plt.subplots(1,1,figsize=(8,6))\n",
    "hep.set_style(hep.style.CMS)\n",
    "h_nCluster= hist.Hist(\"Events\",\n",
    "                      hist.Cat(\"sample\",\"sample\"),                      \n",
    "                      hist.Bin('size',\"size\",1000,0,2000)\n",
    "                      hist.Bin(\"nStation10\",'nStation10',8, 0, 8),\n",
    "                      hist.Bin(\"avgStation10\",'avgStation10',8, 0, 8),                      \n",
    "                      hist.Bin(\"eta\",'eta',20, 0, 3)       \n",
    "                     )\n",
    "\n",
    "\n",
    "eta = (abs(ca4_data.cls.eta)<1.9)\n",
    "ME11_12_veto = (ca4_data.cls.nME11_12)==0\n",
    "time = ((ca4_data.cls.time<12.5) & (ca4_data.cls.time>-5) )\n",
    "nstation = (ca4_data.cls.nStation10==4)\n",
    "\n",
    "cls = ca4_data.cls[(ME11_12_veto)&(nstation)]\n",
    "h_nCluster.fill(sample=\"ME11_12 veto+nStation==4\",)\n",
    "\n",
    "hist.plot1d(h_nCluster.project(\"timeSpread\",\"sample\"),density=False,ax=ax)\n",
    "# hist.plot1d(h_nCluster.project(\"nStation10\",\"sample\"),density=False,ax=ax)\n",
    "# hist.plot2d(h_nCluster.project(\"time\",\"nStation10\"),density=False,ax=ax,xaxis=\"time\")\n",
    "# hist.plot2d(h_nCluster.project(\"eta\",\"nStation10\"),density=False,ax=ax,xaxis=\"eta\")\n",
    "# hist.plot2d(h_nCluster.project(\"avgStation10\",\"nStation10\"),density=False,ax=ax,xaxis=\"nStation10\")\n",
    "ax.legend(title=\"2018 ZeroBias\")\n",
    "hep.cms.label(ax=ax,data=True,label=\"Preliminary\")\n",
    "# ax.set_ylabel(\"nStation10\")\n"
   ]
  },
  {
   "cell_type": "code",
   "execution_count": null,
   "metadata": {},
   "outputs": [],
   "source": []
  },
  {
   "cell_type": "code",
   "execution_count": null,
   "metadata": {},
   "outputs": [],
   "source": []
  },
  {
   "cell_type": "code",
   "execution_count": 30,
   "metadata": {},
   "outputs": [
    {
     "data": {
      "text/plain": [
       "(0.1, 94.48064567003675)"
      ]
     },
     "execution_count": 30,
     "metadata": {},
     "output_type": "execute_result"
    },
    {
     "data": {
      "image/png": "[encoded data removed]",
      "text/plain": [
       "<Figure size 720x720 with 1 Axes>"
      ]
     },
     "metadata": {
      "needs_background": "light"
     },
     "output_type": "display_data"
    }
   ],
   "source": [
    "cls = ca4_data.cls\n",
    "nCls = (ak.num(cls)>=1)\n",
    "eta = (abs(cls.eta)<1.9)\n",
    "ME11_12_veto = (cls.nME11_12)==0\n",
    "time = ((cls.time<12.5) & (cls.time>-5) )\n",
    "sel =ak.sum(cls[(eta)&(time)&(ME11_12_veto)].size>=225,axis=1)>=1\n",
    "sel2 =ak.sum(cls[(eta)&(time)&(ME11_12_veto)].size>=100,axis=1)>=1\n",
    "sel_notime =ak.sum(cls[(eta)&(ME11_12_veto)].size>=200,axis=1)>=1\n",
    "\n",
    "h= hist.Hist(\"Events\",\n",
    "             hist.Cat(\"sel\",\"selection\"),\n",
    "             hist.Bin(\"nClusters\", \"nClusters\", 10, 0, 10))\n",
    "h.fill(nClusters=ak.num(cls[sel]),sel=\"HLT>225\")\n",
    "h.fill(nClusters=ak.num(cls[sel2]),sel=\"HLT>100\")\n",
    "h.fill(nClusters=ak.num(cls[sel_notime]),sel=\"HLT>200 (noTimeCut)\")\n",
    "ax = hist.plot1d(h)\n",
    "ax.set_yscale(\"log\")\n",
    "ax.set_ylim(1e-1)"
   ]
  },
  {
   "cell_type": "code",
   "execution_count": 88,
   "metadata": {},
   "outputs": [
    {
     "name": "stdout",
     "output_type": "stream",
     "text": [
      "321006:156:281529609\n",
      "322348:20:1330464\n",
      "323513:78:55251606\n",
      "323513:79:56198813\n",
      "323513:81:59277768\n",
      "323513:87:66073483\n",
      "323513:87:65941972\n",
      "323513:88:66955641\n",
      "323513:89:67796207\n",
      "323513:90:68740622\n",
      "323513:90:68685491\n",
      "323513:94:72645048\n",
      "323513:98:76468871\n",
      "323513:99:76892074\n",
      "323513:100:78700888\n",
      "323513:103:81554647\n",
      "323513:105:84265716\n",
      "323513:105:84222167\n",
      "323513:105:84222156\n",
      "323513:112:92052986\n",
      "323513:113:92864473\n",
      "323513:117:96648993\n",
      "323513:117:97668227\n",
      "323513:118:98549210\n",
      "323513:120:100217967\n",
      "323513:121:101021298\n",
      "323513:124:105029759\n",
      "323513:124:105029752\n",
      "323513:130:111425338\n",
      "323513:130:110340136\n",
      "323513:130:110400533\n",
      "323513:131:112200505\n",
      "323513:131:112200503\n",
      "323513:133:113539647\n",
      "323513:136:117275411\n",
      "323513:142:122940984\n",
      "323513:142:122885863\n",
      "323513:145:126584240\n",
      "323513:146:127547913\n",
      "323513:147:128444499\n",
      "323513:148:129469658\n",
      "323513:148:130335377\n",
      "323513:150:132285531\n",
      "323513:150:132327754\n",
      "323513:152:134311948\n",
      "323513:157:139372994\n",
      "323513:160:142093325\n",
      "323513:160:142093329\n",
      "323513:161:143025645\n",
      "323513:161:143025646\n",
      "323513:163:145338354\n",
      "323513:163:145469794\n",
      "323513:166:149105073\n",
      "323513:169:151854855\n",
      "323513:169:151854850\n",
      "323513:346:401521342\n",
      "321006:23:40222470\n",
      "323513:173:155456418\n",
      "323513:185:168533991\n",
      "323513:187:171184864\n",
      "323513:187:171184871\n",
      "323513:189:173096416\n",
      "323513:191:175009176\n",
      "323513:191:175009180\n",
      "323513:194:178603182\n",
      "323513:196:180651232\n"
     ]
    }
   ],
   "source": [
    "data = zip(ca4_data.runNum[sel],ca4_data.lumiNum[sel],ca4_data.eventNum[sel])\n",
    "for r,l,e in data:\n",
    "    print(\"%i:%i:%i\"%(r,l,e))"
   ]
  },
  {
   "cell_type": "code",
   "execution_count": 172,
   "metadata": {},
   "outputs": [
    {
     "data": {
      "text/plain": [
       "<Array [] type='0 * var * {\"eta\": float32, \"phi\": float32, \"x\": float32, \"y\": fl...'>"
      ]
     },
     "execution_count": 172,
     "metadata": {},
     "output_type": "execute_result"
    }
   ],
   "source": [
    "cls"
   ]
  },
  {
   "cell_type": "code",
   "execution_count": 171,
   "metadata": {},
   "outputs": [
    {
     "ename": "AttributeError",
     "evalue": "no field named 'nME11_12'\n\n(https://github.com/scikit-hep/awkward-1.0/blob/1.2.0/src/awkward/highlevel.py#L1094)",
     "output_type": "error",
     "traceback": [
      "\u001b[0;31m---------------------------------------------------------------------------\u001b[0m",
      "\u001b[0;31mAttributeError\u001b[0m                            Traceback (most recent call last)",
      "\u001b[0;32m<ipython-input-171-802ac131b6eb>\u001b[0m in \u001b[0;36m<module>\u001b[0;34m\u001b[0m\n\u001b[1;32m      5\u001b[0m \u001b[0;34m\u001b[0m\u001b[0m\n\u001b[1;32m      6\u001b[0m ]\n\u001b[0;32m----> 7\u001b[0;31m \u001b[0mplotCls\u001b[0m\u001b[0;34m(\u001b[0m\u001b[0msamples\u001b[0m\u001b[0;34m,\u001b[0m\u001b[0;34m\"new\"\u001b[0m\u001b[0;34m,\u001b[0m\u001b[0;32mFalse\u001b[0m\u001b[0;34m)\u001b[0m\u001b[0;34m\u001b[0m\u001b[0;34m\u001b[0m\u001b[0m\n\u001b[0m",
      "\u001b[0;32m<ipython-input-170-caa0f92745e0>\u001b[0m in \u001b[0;36mplotCls\u001b[0;34m(d, version, density)\u001b[0m\n\u001b[1;32m     35\u001b[0m             \u001b[0mh12\u001b[0m\u001b[0;34m.\u001b[0m\u001b[0mfill\u001b[0m\u001b[0;34m(\u001b[0m\u001b[0msample\u001b[0m\u001b[0;34m=\u001b[0m\u001b[0mlabel\u001b[0m\u001b[0;34m,\u001b[0m\u001b[0mnMB2\u001b[0m \u001b[0;34m=\u001b[0m \u001b[0mak\u001b[0m\u001b[0;34m.\u001b[0m\u001b[0mflatten\u001b[0m\u001b[0;34m(\u001b[0m\u001b[0mcls\u001b[0m\u001b[0;34m.\u001b[0m\u001b[0mnMB2\u001b[0m\u001b[0;34m)\u001b[0m\u001b[0;34m)\u001b[0m\u001b[0;34m\u001b[0m\u001b[0;34m\u001b[0m\u001b[0m\n\u001b[1;32m     36\u001b[0m         \u001b[0;32melif\u001b[0m \u001b[0mversion\u001b[0m\u001b[0;34m==\u001b[0m\u001b[0;34m\"new\"\u001b[0m\u001b[0;34m:\u001b[0m\u001b[0;34m\u001b[0m\u001b[0;34m\u001b[0m\u001b[0m\n\u001b[0;32m---> 37\u001b[0;31m             \u001b[0mh6\u001b[0m\u001b[0;34m.\u001b[0m\u001b[0mfill\u001b[0m \u001b[0;34m(\u001b[0m\u001b[0msample\u001b[0m\u001b[0;34m=\u001b[0m\u001b[0mlabel\u001b[0m\u001b[0;34m,\u001b[0m\u001b[0mnME11_12\u001b[0m \u001b[0;34m=\u001b[0m \u001b[0mak\u001b[0m\u001b[0;34m.\u001b[0m\u001b[0mflatten\u001b[0m\u001b[0;34m(\u001b[0m\u001b[0mcls\u001b[0m\u001b[0;34m.\u001b[0m\u001b[0mnME11_12\u001b[0m\u001b[0;34m)\u001b[0m\u001b[0;34m)\u001b[0m\u001b[0;34m\u001b[0m\u001b[0;34m\u001b[0m\u001b[0m\n\u001b[0m\u001b[1;32m     38\u001b[0m             \u001b[0mh12\u001b[0m\u001b[0;34m.\u001b[0m\u001b[0mfill\u001b[0m\u001b[0;34m(\u001b[0m\u001b[0msample\u001b[0m\u001b[0;34m=\u001b[0m\u001b[0mlabel\u001b[0m\u001b[0;34m,\u001b[0m\u001b[0mtimeSpread\u001b[0m \u001b[0;34m=\u001b[0m \u001b[0mak\u001b[0m\u001b[0;34m.\u001b[0m\u001b[0mflatten\u001b[0m\u001b[0;34m(\u001b[0m\u001b[0mcls\u001b[0m\u001b[0;34m.\u001b[0m\u001b[0mtimeSpread\u001b[0m\u001b[0;34m)\u001b[0m\u001b[0;34m)\u001b[0m\u001b[0;34m\u001b[0m\u001b[0;34m\u001b[0m\u001b[0m\n\u001b[1;32m     39\u001b[0m         \u001b[0;32melse\u001b[0m\u001b[0;34m:\u001b[0m\u001b[0;34m\u001b[0m\u001b[0;34m\u001b[0m\u001b[0m\n",
      "\u001b[0;32m~/work/LLP/CMSSW_10_6_20/src/llp_analyzer/coffeaenv/lib/python3.7/site-packages/awkward/highlevel.py\u001b[0m in \u001b[0;36m__getattr__\u001b[0;34m(self, where)\u001b[0m\n\u001b[1;32m   1092\u001b[0m                 raise AttributeError(\n\u001b[1;32m   1093\u001b[0m                     \u001b[0;34m\"no field named {0}\"\u001b[0m\u001b[0;34m.\u001b[0m\u001b[0mformat\u001b[0m\u001b[0;34m(\u001b[0m\u001b[0mrepr\u001b[0m\u001b[0;34m(\u001b[0m\u001b[0mwhere\u001b[0m\u001b[0;34m)\u001b[0m\u001b[0;34m)\u001b[0m\u001b[0;34m\u001b[0m\u001b[0;34m\u001b[0m\u001b[0m\n\u001b[0;32m-> 1094\u001b[0;31m                     \u001b[0;34m+\u001b[0m \u001b[0mak\u001b[0m\u001b[0;34m.\u001b[0m\u001b[0m_util\u001b[0m\u001b[0;34m.\u001b[0m\u001b[0mexception_suffix\u001b[0m\u001b[0;34m(\u001b[0m\u001b[0m__file__\u001b[0m\u001b[0;34m)\u001b[0m\u001b[0;34m\u001b[0m\u001b[0;34m\u001b[0m\u001b[0m\n\u001b[0m\u001b[1;32m   1095\u001b[0m                 )\n\u001b[1;32m   1096\u001b[0m \u001b[0;34m\u001b[0m\u001b[0m\n",
      "\u001b[0;31mAttributeError\u001b[0m: no field named 'nME11_12'\n\n(https://github.com/scikit-hep/awkward-1.0/blob/1.2.0/src/awkward/highlevel.py#L1094)"
     ]
    },
    {
     "data": {
      "image/png": "[encoded data removed]",
      "text/plain": [
       "<Figure size 2000x1200 with 12 Axes>"
      ]
     },
     "metadata": {},
     "output_type": "display_data"
    }
   ],
   "source": [
    "plt.style.use(\"default\")\n",
    "\n",
    "samples=[\n",
    "    {\"cls\":cls,\"label\":\"signal14\"},\n",
    "\n",
    "]\n",
    "plotCls(samples,\"new\",False)"
   ]
  },
  {
   "cell_type": "markdown",
   "metadata": {},
   "source": [
    "# PR validation"
   ]
  },
  {
   "cell_type": "code",
   "execution_count": 105,
   "metadata": {},
   "outputs": [],
   "source": [
    "# data12X = getLZDF(\"../analyze_L1oldskim_12X.root\")\n",
    "data12X = getLZDF(\"../analyze_L1oldskim_12X_full.root\")"
   ]
  },
  {
   "cell_type": "code",
   "execution_count": 90,
   "metadata": {},
   "outputs": [],
   "source": [
    "def Filter(events,thres=[]):\n",
    "    L1cls = (events.cls)\n",
    "    L1cls = L1cls[(L1cls.time<12.5)&(L1cls.time>-5)&(L1cls.nME11_12==0)]\n",
    "\n",
    "    c1 = ak.any((abs(L1cls.eta)<=1.9)&(L1cls.nStation10>1) & (L1cls.size>=thres[0]),axis=1)\n",
    "    c2 = ak.any((abs(L1cls.eta)<=1.9)&(L1cls.nStation10<=1) & (L1cls.size>=thres[1]),axis=1)\n",
    "    c3 = ak.any((abs(L1cls.eta)>1.9)&(L1cls.nStation10>1) & (L1cls.size>=thres[2]),axis=1)\n",
    "    c4 = ak.any((abs(L1cls.eta)>1.9)&(L1cls.nStation10<=1) & (L1cls.size>=thres[3]),axis=1)\n",
    "\n",
    "    eff = len(L1cls[(c1|c2|c3|c4)])\n",
    "    mask = (c1|c2|c3|c4)\n",
    "    return eff,L1cls[(c1|c2|c3|c4)],mask\n"
   ]
  },
  {
   "cell_type": "code",
   "execution_count": 52,
   "metadata": {},
   "outputs": [
    {
     "data": {
      "text/plain": [
       "2645"
      ]
     },
     "execution_count": 52,
     "metadata": {},
     "output_type": "execute_result"
    }
   ],
   "source": [
    "len(isGolden)"
   ]
  },
  {
   "cell_type": "code",
   "execution_count": 53,
   "metadata": {},
   "outputs": [
    {
     "data": {
      "text/plain": [
       "2122"
      ]
     },
     "execution_count": 53,
     "metadata": {},
     "output_type": "execute_result"
    }
   ],
   "source": [
    "len(data12X[isGolden])"
   ]
  },
  {
   "cell_type": "code",
   "execution_count": 96,
   "metadata": {},
   "outputs": [
    {
     "data": {
      "text/plain": [
       "<Array [[], [], ... False, False, False]] type='721 * var * bool'>"
      ]
     },
     "execution_count": 96,
     "metadata": {},
     "output_type": "execute_result"
    }
   ],
   "source": []
  },
  {
   "cell_type": "code",
   "execution_count": 107,
   "metadata": {},
   "outputs": [
    {
     "name": "stdout",
     "output_type": "stream",
     "text": [
      "20\n",
      "11\n",
      "7\n"
     ]
    }
   ],
   "source": [
    "norm=1/530\n",
    "eff,cls,maskLoose = Filter(data12X,[100,200,500,500])\n",
    "eff,cls,maskMedium = Filter(data12X,[100,300,500,800])\n",
    "eff,cls,maskTight  = Filter(data12X,[100,500,500,800])\n",
    "print(ak.sum(maskLoose &(isGolden)))\n",
    "print(ak.sum(maskMedium &(isGolden)))\n",
    "print(ak.sum(maskTight &(isGolden)))"
   ]
  },
  {
   "cell_type": "code",
   "execution_count": 108,
   "metadata": {},
   "outputs": [
    {
     "name": "stdout",
     "output_type": "stream",
     "text": [
      "20\n",
      "11\n",
      "0\n"
     ]
    }
   ],
   "source": [
    "HLTLoose=(data12X.HLT_CSCclusterLoose_v0==1) & (isGolden)\n",
    "HLTMedium=(data12X.HLT_CSCclusterMedium_v0==1) & (isGolden)\n",
    "HLTTight=(data12X.HLT_CSCclusterTightv0==1) & (isGolden)\n",
    "\n",
    "print(ak.sum((data12X.HLT_CSCclusterLoose_v0==1) & (isGolden)))\n",
    "print(ak.sum((data12X.HLT_CSCclusterMedium_v0==1) & (isGolden)))\n",
    "print(ak.sum((data12X.HLT_CSCclusterTightv0==1) & (isGolden)))"
   ]
  },
  {
   "cell_type": "code",
   "execution_count": 109,
   "metadata": {},
   "outputs": [
    {
     "data": {
      "text/plain": [
       "[{'runNum': 321475, 'lumiNum': 230, 'evtNum': 323270799},\n",
       " {'runNum': 321774, 'lumiNum': 54, 'evtNum': 92599917},\n",
       " {'runNum': 321775, 'lumiNum': 26, 'evtNum': 50837178},\n",
       " {'runNum': 321004, 'lumiNum': 139, 'evtNum': 184721772},\n",
       " {'runNum': 320500, 'lumiNum': 245, 'evtNum': 97038552},\n",
       " {'runNum': 323940, 'lumiNum': 831, 'evtNum': 1518897162},\n",
       " {'runNum': 324021, 'lumiNum': 207, 'evtNum': 312996162},\n",
       " {'runNum': 321119, 'lumiNum': 204, 'evtNum': 252844085},\n",
       " {'runNum': 321233, 'lumiNum': 344, 'evtNum': 538234118},\n",
       " {'runNum': 321475, 'lumiNum': 89, 'evtNum': 88239275},\n",
       " {'runNum': 321233, 'lumiNum': 613, 'evtNum': 962666912},\n",
       " {'runNum': 321305, 'lumiNum': 944, 'evtNum': 1522115788},\n",
       " {'runNum': 321988, 'lumiNum': 940, 'evtNum': 1659768325},\n",
       " {'runNum': 322204, 'lumiNum': 417, 'evtNum': 766726260},\n",
       " {'runNum': 322625, 'lumiNum': 170, 'evtNum': 242588470},\n",
       " {'runNum': 323513, 'lumiNum': 117, 'evtNum': 96648998},\n",
       " {'runNum': 323513, 'lumiNum': 118, 'evtNum': 98549210},\n",
       " {'runNum': 323524, 'lumiNum': 43, 'evtNum': 75811956},\n",
       " {'runNum': 323473, 'lumiNum': 7, 'evtNum': 6631825},\n",
       " {'runNum': 321909, 'lumiNum': 133, 'evtNum': 231480549},\n",
       " {'runNum': 324997, 'lumiNum': 48, 'evtNum': 25720678},\n",
       " {'runNum': 325101, 'lumiNum': 441, 'evtNum': 819451907},\n",
       " {'runNum': 323513, 'lumiNum': 186, 'evtNum': 170116797}]"
      ]
     },
     "execution_count": 109,
     "metadata": {},
     "output_type": "execute_result"
    }
   ],
   "source": [
    "data12X.info[(maskLoose) ].to_list()"
   ]
  },
  {
   "cell_type": "code",
   "execution_count": 119,
   "metadata": {},
   "outputs": [
    {
     "data": {
      "text/plain": [
       "[{'runNum': 321475, 'lumiNum': 230, 'evtNum': 323270799},\n",
       " {'runNum': 321774, 'lumiNum': 54, 'evtNum': 92599917},\n",
       " {'runNum': 321775, 'lumiNum': 26, 'evtNum': 50837178},\n",
       " {'runNum': 321004, 'lumiNum': 139, 'evtNum': 184721772},\n",
       " {'runNum': 320500, 'lumiNum': 245, 'evtNum': 97038552},\n",
       " {'runNum': 323940, 'lumiNum': 831, 'evtNum': 1518897162},\n",
       " {'runNum': 324021, 'lumiNum': 207, 'evtNum': 312996162},\n",
       " {'runNum': 321119, 'lumiNum': 204, 'evtNum': 252844085},\n",
       " {'runNum': 321233, 'lumiNum': 344, 'evtNum': 538234118},\n",
       " {'runNum': 321475, 'lumiNum': 89, 'evtNum': 88239275},\n",
       " {'runNum': 321233, 'lumiNum': 613, 'evtNum': 962666912},\n",
       " {'runNum': 321305, 'lumiNum': 944, 'evtNum': 1522115788},\n",
       " {'runNum': 321988, 'lumiNum': 940, 'evtNum': 1659768325},\n",
       " {'runNum': 322204, 'lumiNum': 417, 'evtNum': 766726260},\n",
       " {'runNum': 322625, 'lumiNum': 170, 'evtNum': 242588470},\n",
       " {'runNum': 323513, 'lumiNum': 117, 'evtNum': 96648998},\n",
       " {'runNum': 323513, 'lumiNum': 118, 'evtNum': 98549210},\n",
       " {'runNum': 323524, 'lumiNum': 43, 'evtNum': 75811956},\n",
       " {'runNum': 323473, 'lumiNum': 7, 'evtNum': 6631825},\n",
       " {'runNum': 321909, 'lumiNum': 133, 'evtNum': 231480549},\n",
       " {'runNum': 324997, 'lumiNum': 48, 'evtNum': 25720678},\n",
       " {'runNum': 325101, 'lumiNum': 441, 'evtNum': 819451907},\n",
       " {'runNum': 323513, 'lumiNum': 186, 'evtNum': 170116797}]"
      ]
     },
     "execution_count": 119,
     "metadata": {},
     "output_type": "execute_result"
    }
   ],
   "source": [
    "data12X.info[(data12X.HLT_CSCclusterLoose_v0==1) ].to_list()"
   ]
  },
  {
   "cell_type": "code",
   "execution_count": 61,
   "metadata": {},
   "outputs": [
    {
     "data": {
      "text/plain": [
       "[]"
      ]
     },
     "execution_count": 61,
     "metadata": {},
     "output_type": "execute_result"
    }
   ],
   "source": [
    "data12X.info[(maskLoose)& (~HLTLoose) & (isGolden)].to_list()"
   ]
  },
  {
   "cell_type": "code",
   "execution_count": 62,
   "metadata": {},
   "outputs": [
    {
     "data": {
      "text/plain": [
       "[]"
      ]
     },
     "execution_count": 62,
     "metadata": {},
     "output_type": "execute_result"
    }
   ],
   "source": [
    "data12X.cls[(maskLoose)& (~HLTLoose) & (isGolden)].to_list()"
   ]
  },
  {
   "cell_type": "code",
   "execution_count": null,
   "metadata": {},
   "outputs": [],
   "source": [
    "#     c1 = ak.any((abs(L1cls.eta)<=1.9)&(L1cls.nStation10>1) & (L1cls.size>=thres[0]),axis=1)\n",
    "#     c2 = ak.any((abs(L1cls.eta)<=1.9)&(L1cls.nStation10<=1) & (L1cls.size>=thres[1]),axis=1)\n",
    "#     c3 = ak.any((abs(L1cls.eta)>1.9)&(L1cls.nStation10>1) & (L1cls.size>=thres[2]),axis=1)\n",
    "#     c4 = ak.any((abs(L1cls.eta)>1.9)&(L1cls.nStation10<=1) & (L1cls.size>=thres[3]),axis=1)"
   ]
  },
  {
   "cell_type": "code",
   "execution_count": null,
   "metadata": {},
   "outputs": [],
   "source": []
  },
  {
   "cell_type": "code",
   "execution_count": 34,
   "metadata": {},
   "outputs": [
    {
     "name": "stdout",
     "output_type": "stream",
     "text": [
      "False True False False\n"
     ]
    }
   ],
   "source": [
    "print(c1[maskLoose][7],\n",
    "      c2[maskLoose][7],\n",
    "      c3[maskLoose][7],\n",
    "      c4[maskLoose][7])"
   ]
  },
  {
   "cell_type": "code",
   "execution_count": 38,
   "metadata": {},
   "outputs": [
    {
     "name": "stdout",
     "output_type": "stream",
     "text": [
      "[True, False, False, False, False]\n",
      "[False, True, False, False, True]\n",
      "[False, False, True, True, False]\n",
      "[False, False, False, False, False]\n"
     ]
    }
   ],
   "source": [
    "print(c1[(maskLoose)& (~HLTLoose) & (isGolden)])\n",
    "print(c2[(maskLoose)& (~HLTLoose) & (isGolden)])\n",
    "print(c3[(maskLoose)& (~HLTLoose) & (isGolden)])\n",
    "print(c4[(maskLoose)& (~HLTLoose) & (isGolden)])"
   ]
  },
  {
   "cell_type": "code",
   "execution_count": 112,
   "metadata": {},
   "outputs": [
    {
     "data": {
      "text/plain": [
       "<Array [230, 54, 26, 139, ... 48, 441, 186] type='23 * uint32'>"
      ]
     },
     "execution_count": 112,
     "metadata": {},
     "output_type": "execute_result"
    }
   ],
   "source": [
    "data12X.info[(maskLoose)].lumiNum"
   ]
  },
  {
   "cell_type": "code",
   "execution_count": 122,
   "metadata": {},
   "outputs": [
    {
     "data": {
      "text/plain": [
       "<AxesSubplot:xlabel='lumiNumber', ylabel='Events'>"
      ]
     },
     "execution_count": 122,
     "metadata": {},
     "output_type": "execute_result"
    },
    {
     "data": {
      "image/png": "[encoded data removed]",
      "text/plain": [
       "<Figure size 576x432 with 1 Axes>"
      ]
     },
     "metadata": {
      "needs_background": "light"
     },
     "output_type": "display_data"
    }
   ],
   "source": [
    "fig, ax = plt.subplots(1,1,figsize=(8,6))\n",
    "hep.set_style(hep.style.CMS)\n",
    "h= hist.Hist(\"Events\",\n",
    "                      hist.Cat(\"sample\",\"sample\"),                      \n",
    "                      hist.Bin(\"lumi\", \"lumiNumber\", 50, 0, 1000))\n",
    "\n",
    "\n",
    "h.fill(sample=\"Offline\",lumi=data12X.info[(maskLoose)].lumiNum)\n",
    "h.fill(sample=\"HLT filter\",lumi=data12X.info[(data12X.HLT_CSCclusterLoose_v0==1) ].lumiNum)\n",
    "hist.plot1d(h,ax=ax,line_opts={})\n",
    "# ax.legend(title=\"CA(dR=0.4)\")\n",
    "# ax.text(6,0.2,\"H->SS->4tau\")\n",
    "# hep.cms.label(ax=ax)\n",
    "# ax.set_ylabel(\"Density\")"
   ]
  },
  {
   "cell_type": "code",
   "execution_count": null,
   "metadata": {},
   "outputs": [],
   "source": []
  }
 ],
 "metadata": {
  "kernelspec": {
   "display_name": "coffeaenv",
   "language": "python",
   "name": "coffeaenv"
  },
  "language_info": {
   "codemirror_mode": {
    "name": "ipython",
    "version": 3
   },
   "file_extension": ".py",
   "mimetype": "text/x-python",
   "name": "python",
   "nbconvert_exporter": "python",
   "pygments_lexer": "ipython3",
   "version": "3.7.6"
  }
 },
 "nbformat": 4,
 "nbformat_minor": 2
}
